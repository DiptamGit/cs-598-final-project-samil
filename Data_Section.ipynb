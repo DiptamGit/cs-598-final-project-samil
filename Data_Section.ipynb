{
  "cells": [
    {
      "cell_type": "markdown",
      "metadata": {},
      "source": [
        "## Introduction\n",
        "\n",
        "Aortic Senosis (AS) is a degenerative valve condition leading to significant morbidity and mortality. AS is typically diagnosed by humans by reviewing transthoracic echocardiography, which produces images of the heart. Experts must parse through the images to find ones that contain a view of the aortic valve. Thus, the process of diagnosis is time consuming and error prone. The challenge in automating AS screening arises from the need for deep learning networks to mimic a human expert's ability to identify specific views of the aortic valve across those multiple images. Previous approaches to this problem have poor accuracy due to their inflexible averages across images, and normal attention-based multiple instance learning (MIL) models also perform poorly.\n",
        "\n",
        "\n",
        "The paper, `Detecting Heart Disease from Multi-View Ultrasound Images via Supervised Attention Multiple Instance Learning` proposes a novel MIL-based model with two changes:\n",
        "- a supervised attention technique guides the learned attention mechanism to favor relevant views\n",
        "- a self-supervised pretraining strategy applies contrastive learning on the representation of the whole study as opposed to individual images\n",
        "\n",
        "The paper claims that their proposed approac (SAMIL) has better accuracy (by over 10%) in comparison to ABMIL.\n",
        "SABMIL, if this accurate in practice, has the potential to transform AS screening by making it less burdensome, more accurate, and more predictable.\n",
        "\n",
        "\n",
        "\n",
        "\n",
        "\n"
      ]
    },
    {
      "cell_type": "markdown",
      "metadata": {},
      "source": [
        "## Scope of Reproducibility\n",
        "\n",
        "The will test the following hypotheses from the paper:\n",
        "\n",
        "1. Supervised Attention Enhances Model Focus on Relevant Views: It hypothesizes that incorporating supervised attention within the MIL framework will significantly improve the model's ability to identify and prioritize echocardiogram views that are relevant for AS diagnosis. This mechanism is expected to lead to higher diagnostic accuracy by ensuring that the model's predictions are based on the most informative images.\n",
        "\n",
        "2. Self-Supervised Pretraining Improves Whole-Study Representation Learning: The hypothesis asserts that pretraining the model using a self-supervised strategy that focuses on whole- study representations rather than individual images will enhance the model's ability to understand and interpret the complex anatomical information presented in echocardiograms. This comprehensive learning approach is anticipated to yield a more accurate and robust model for AS screening.\n",
        "\n",
        "3. SAMIL Outperforms Conventional MIL Approaches in AS Detection: The proposal hypothesizes that the SAMIL framework, with its novel contributions of supervised attention and self-supervised whole-study pretraining, will outperform traditional MIL methods and existing AS detection models in terms of diagnostic accuracy and clinical relevance."
      ]
    },
    {
      "cell_type": "code",
      "execution_count": 5,
      "metadata": {
        "id": "m794myOt63Nv"
      },
      "outputs": [
        {
          "ename": "ModuleNotFoundError",
          "evalue": "No module named 'PIL'",
          "output_type": "error",
          "traceback": [
            "\u001b[0;31m---------------------------------------------------------------------------\u001b[0m",
            "\u001b[0;31mModuleNotFoundError\u001b[0m                       Traceback (most recent call last)",
            "Cell \u001b[0;32mIn[5], line 6\u001b[0m\n\u001b[1;32m      3\u001b[0m \u001b[38;5;28;01mimport\u001b[39;00m \u001b[38;5;21;01mos\u001b[39;00m\n\u001b[1;32m      4\u001b[0m \u001b[38;5;28;01mimport\u001b[39;00m \u001b[38;5;21;01mrandom\u001b[39;00m\n\u001b[0;32m----> 6\u001b[0m \u001b[38;5;28;01mimport\u001b[39;00m \u001b[38;5;21;01mPIL\u001b[39;00m\u001b[38;5;21;01m.\u001b[39;00m\u001b[38;5;21;01mImage\u001b[39;00m \u001b[38;5;28;01mas\u001b[39;00m \u001b[38;5;21;01mImage\u001b[39;00m\n\u001b[1;32m      7\u001b[0m \u001b[38;5;28;01mimport\u001b[39;00m \u001b[38;5;21;01mmatplotlib\u001b[39;00m\u001b[38;5;21;01m.\u001b[39;00m\u001b[38;5;21;01mpyplot\u001b[39;00m \u001b[38;5;28;01mas\u001b[39;00m \u001b[38;5;21;01mplt\u001b[39;00m\n\u001b[1;32m      8\u001b[0m get_ipython()\u001b[38;5;241m.\u001b[39mrun_line_magic(\u001b[38;5;124m'\u001b[39m\u001b[38;5;124mmatplotlib\u001b[39m\u001b[38;5;124m'\u001b[39m, \u001b[38;5;124m'\u001b[39m\u001b[38;5;124minline\u001b[39m\u001b[38;5;124m'\u001b[39m)\n",
            "\u001b[0;31mModuleNotFoundError\u001b[0m: No module named 'PIL'"
          ]
        }
      ],
      "source": [
        "import pandas as pd\n",
        "import numpy as np\n",
        "import os\n",
        "import random\n",
        "\n",
        "import PIL.Image as Image\n",
        "import matplotlib.pyplot as plt\n",
        "%matplotlib inline\n",
        "\n",
        "import warnings\n",
        "warnings.filterwarnings('ignore')"
      ]
    },
    {
      "cell_type": "code",
      "execution_count": null,
      "metadata": {
        "colab": {
          "base_uri": "https://localhost:8080/"
        },
        "id": "sfk8Zrul_E8V",
        "outputId": "85246557-4d34-4fff-fdd0-f37333226e4a"
      },
      "outputs": [
        {
          "name": "stdout",
          "output_type": "stream",
          "text": [
            "Mounted at /content/drive\n"
          ]
        }
      ],
      "source": [
        "from google.colab import drive\n",
        "drive.mount('/content/drive')"
      ]
    },
    {
      "cell_type": "markdown",
      "metadata": {
        "id": "h1m0_UoU3m-o"
      },
      "source": [
        "## Data"
      ]
    },
    {
      "cell_type": "markdown",
      "metadata": {
        "id": "EQkefVzzbUz_"
      },
      "source": [
        "### About TMED-2"
      ]
    },
    {
      "cell_type": "markdown",
      "metadata": {
        "id": "nv6Y8hd6deLK"
      },
      "source": [
        "Our experiment uses Tufts Medical Echocardiogram Dataset-2 (TMED-2) dataset.\n",
        "  * TMED-2 is a clinically-motivated benchmark dataset for computer vision and machine learning from limited data.\n",
        "  * This dataset is designed to be an authentic assessment of semi-supervised learning methods that train classifiers from a small, hard-to-acquire labeled dataset and a much larger unlabeled set.\n",
        "  \n",
        "The TMED-2 dataset obtained from 2011-2020 at Tufts Medical Center.\n",
        "  * The TMED-2 dataset contains transthoracic echocardiogram (TTE) imagery, acquired in the course of routine care consistent with American Society of Echocardiography (ASE) guidelines.\n",
        "  * More information about retrieving the TMED-2 dataset can found [here](https://tmed.cs.tufts.edu/index.html).\n",
        "\n",
        "The access to the TMED-2 dataset was granted by requesting for the access on [here](https://tmed.cs.tufts.edu/index.html).\n",
        "  * Further modification wasn't required, and locating the retrieved folder was enough to process the experiment."
      ]
    },
    {
      "cell_type": "markdown",
      "metadata": {
        "id": "kcx0L_zYdUeo"
      },
      "source": [
        "### Overview"
      ]
    },
    {
      "cell_type": "markdown",
      "metadata": {
        "id": "GYOJbPUjdcJa"
      },
      "source": [
        "TMED-2 dataset contains three components:\n",
        "1. `view_and_diagnosis_labeled_set`: 599 bags from 577 unique patients, where all patients have an AS diagnostic label - (1)none, (2)early AS, or (3)significant AS. Also has view label annotations.\n",
        "      * This dataset has been partitioned by patient into 360 training / 119 validation / 120 test bags.\n",
        "2. `view_labeled_set`: 705 bags from 703 unique patients. These bags have view labels, but no AS diagnosis labels.\n",
        "3. `unlabeled_set`: 5,486 bags from 5,287 patients, and no labels are available for any bags in this set."
      ]
    },
    {
      "cell_type": "markdown",
      "metadata": {
        "id": "frNHemfQc3wS"
      },
      "source": [
        "### Statistics\n"
      ]
    },
    {
      "cell_type": "markdown",
      "metadata": {
        "id": "aCuvcfOVdvUe"
      },
      "source": [
        "Below is the summary table of TMED-2 dataset:\n",
        "\n",
        "| Dataset            | Num. Patients | Num. Studies | Num. Labeled Images | Num. Unlabeled Images |\n",
        "|--------------------|---------------|--------------|---------------------|-----------------------|\n",
        "| fully labeled set  | 577           | 599          | 17,270               | 26,596                 |\n",
        "| partially labeled set | 703         | 705          | 7,694                | 37,576                 |\n",
        "| unlabeled set      | 5,287          | 5,486         | 0                   | 353,500                |\n"
      ]
    },
    {
      "cell_type": "markdown",
      "metadata": {
        "id": "yN7VyMph6Bjl"
      },
      "source": [
        "### Image Preprocessing"
      ]
    },
    {
      "cell_type": "markdown",
      "metadata": {
        "id": "uXp9umfndrqL"
      },
      "source": [
        "Data processing has been already implemented on the dataset.\n",
        "* Every image in this dataset is a 2D transthoracic echocardiogram (TTE) image stored at 112x112 pixel resolution in PNG format."
      ]
    },
    {
      "cell_type": "markdown",
      "metadata": {
        "id": "S6PVOzW5dza_"
      },
      "source": [
        "### Illustrations"
      ]
    },
    {
      "cell_type": "code",
      "execution_count": null,
      "metadata": {
        "id": "8HDdOaO-7GOx"
      },
      "outputs": [],
      "source": [
        "def LoadImage(file_path):\n",
        "    im = Image.open(file_path)\n",
        "    im = np.asarray(im)/255\n",
        "    return im\n",
        "\n",
        "def ShowGrayscaleImage(file_path, title='', ax=None):\n",
        "    im = LoadImage(file_path)\n",
        "    if ax is None:\n",
        "        plt.figure()\n",
        "\n",
        "    plt.axis('off')\n",
        "    plt.imshow(im, cmap=plt.cm.gray, vmin=0, vmax=1)\n",
        "    plt.title(title)\n",
        "\n",
        "def find_label(query_key):\n",
        "    assert len(labels_per_image_csv.index[labels_per_image_csv['query_key']==query_key].tolist())==1\n",
        "\n",
        "    row_id = labels_per_image_csv.index[labels_per_image_csv['query_key']==query_key].tolist()[0]\n",
        "    view_label = labels_per_image_csv.iloc[row_id].view_label\n",
        "    diagnosis_label = labels_per_image_csv.iloc[row_id].diagnosis_label\n",
        "\n",
        "    return view_label, diagnosis_label"
      ]
    },
    {
      "cell_type": "code",
      "execution_count": null,
      "metadata": {
        "id": "V6wJ3kHq79xa"
      },
      "outputs": [],
      "source": [
        "os.chdir('/content/drive/MyDrive/CS598/TMED2/approved_users_only')"
      ]
    },
    {
      "cell_type": "code",
      "execution_count": null,
      "metadata": {
        "colab": {
          "base_uri": "https://localhost:8080/",
          "height": 424
        },
        "id": "M9ebcebb8CTO",
        "outputId": "2e82b3c4-e077-4d33-8b85-32ac15391c44"
      },
      "outputs": [
        {
          "data": {
            "application/vnd.google.colaboratory.intrinsic+json": {
              "summary": "{\n  \"name\": \"labels_per_image_csv\",\n  \"rows\": 24964,\n  \"fields\": [\n    {\n      \"column\": \"query_key\",\n      \"properties\": {\n        \"dtype\": \"string\",\n        \"num_unique_values\": 24964,\n        \"samples\": [\n          \"2041s1_2.png\",\n          \"525s1_47.png\",\n          \"4832s1_7.png\"\n        ],\n        \"semantic_type\": \"\",\n        \"description\": \"\"\n      }\n    },\n    {\n      \"column\": \"view_label\",\n      \"properties\": {\n        \"dtype\": \"category\",\n        \"num_unique_values\": 5,\n        \"samples\": [\n          \"A2C\",\n          \"A4CorA2CorOther\",\n          \"PLAX\"\n        ],\n        \"semantic_type\": \"\",\n        \"description\": \"\"\n      }\n    },\n    {\n      \"column\": \"diagnosis_label\",\n      \"properties\": {\n        \"dtype\": \"category\",\n        \"num_unique_values\": 6,\n        \"samples\": [\n          \"moderate_AS\",\n          \"mild_AS\",\n          \"Not_Provided\"\n        ],\n        \"semantic_type\": \"\",\n        \"description\": \"\"\n      }\n    }\n  ]\n}",
              "type": "dataframe",
              "variable_name": "labels_per_image_csv"
            },
            "text/html": [
              "\n",
              "  <div id=\"df-138e80cf-401b-480d-833f-41c14b6b8793\" class=\"colab-df-container\">\n",
              "    <div>\n",
              "<style scoped>\n",
              "    .dataframe tbody tr th:only-of-type {\n",
              "        vertical-align: middle;\n",
              "    }\n",
              "\n",
              "    .dataframe tbody tr th {\n",
              "        vertical-align: top;\n",
              "    }\n",
              "\n",
              "    .dataframe thead th {\n",
              "        text-align: right;\n",
              "    }\n",
              "</style>\n",
              "<table border=\"1\" class=\"dataframe\">\n",
              "  <thead>\n",
              "    <tr style=\"text-align: right;\">\n",
              "      <th></th>\n",
              "      <th>query_key</th>\n",
              "      <th>view_label</th>\n",
              "      <th>diagnosis_label</th>\n",
              "    </tr>\n",
              "  </thead>\n",
              "  <tbody>\n",
              "    <tr>\n",
              "      <th>0</th>\n",
              "      <td>4860s1_0.png</td>\n",
              "      <td>A4C</td>\n",
              "      <td>moderate_AS</td>\n",
              "    </tr>\n",
              "    <tr>\n",
              "      <th>1</th>\n",
              "      <td>4860s1_1.png</td>\n",
              "      <td>A2C</td>\n",
              "      <td>moderate_AS</td>\n",
              "    </tr>\n",
              "    <tr>\n",
              "      <th>2</th>\n",
              "      <td>4860s1_2.png</td>\n",
              "      <td>PLAX</td>\n",
              "      <td>moderate_AS</td>\n",
              "    </tr>\n",
              "    <tr>\n",
              "      <th>3</th>\n",
              "      <td>4860s1_3.png</td>\n",
              "      <td>PLAX</td>\n",
              "      <td>moderate_AS</td>\n",
              "    </tr>\n",
              "    <tr>\n",
              "      <th>4</th>\n",
              "      <td>4860s1_4.png</td>\n",
              "      <td>PLAX</td>\n",
              "      <td>moderate_AS</td>\n",
              "    </tr>\n",
              "    <tr>\n",
              "      <th>...</th>\n",
              "      <td>...</td>\n",
              "      <td>...</td>\n",
              "      <td>...</td>\n",
              "    </tr>\n",
              "    <tr>\n",
              "      <th>24959</th>\n",
              "      <td>2797s1_28.png</td>\n",
              "      <td>A4C</td>\n",
              "      <td>Not_Provided</td>\n",
              "    </tr>\n",
              "    <tr>\n",
              "      <th>24960</th>\n",
              "      <td>235s1_0.png</td>\n",
              "      <td>PLAX</td>\n",
              "      <td>Not_Provided</td>\n",
              "    </tr>\n",
              "    <tr>\n",
              "      <th>24961</th>\n",
              "      <td>235s1_1.png</td>\n",
              "      <td>A4C</td>\n",
              "      <td>Not_Provided</td>\n",
              "    </tr>\n",
              "    <tr>\n",
              "      <th>24962</th>\n",
              "      <td>235s1_2.png</td>\n",
              "      <td>PLAX</td>\n",
              "      <td>Not_Provided</td>\n",
              "    </tr>\n",
              "    <tr>\n",
              "      <th>24963</th>\n",
              "      <td>235s1_3.png</td>\n",
              "      <td>A4C</td>\n",
              "      <td>Not_Provided</td>\n",
              "    </tr>\n",
              "  </tbody>\n",
              "</table>\n",
              "<p>24964 rows × 3 columns</p>\n",
              "</div>\n",
              "    <div class=\"colab-df-buttons\">\n",
              "\n",
              "  <div class=\"colab-df-container\">\n",
              "    <button class=\"colab-df-convert\" onclick=\"convertToInteractive('df-138e80cf-401b-480d-833f-41c14b6b8793')\"\n",
              "            title=\"Convert this dataframe to an interactive table.\"\n",
              "            style=\"display:none;\">\n",
              "\n",
              "  <svg xmlns=\"http://www.w3.org/2000/svg\" height=\"24px\" viewBox=\"0 -960 960 960\">\n",
              "    <path d=\"M120-120v-720h720v720H120Zm60-500h600v-160H180v160Zm220 220h160v-160H400v160Zm0 220h160v-160H400v160ZM180-400h160v-160H180v160Zm440 0h160v-160H620v160ZM180-180h160v-160H180v160Zm440 0h160v-160H620v160Z\"/>\n",
              "  </svg>\n",
              "    </button>\n",
              "\n",
              "  <style>\n",
              "    .colab-df-container {\n",
              "      display:flex;\n",
              "      gap: 12px;\n",
              "    }\n",
              "\n",
              "    .colab-df-convert {\n",
              "      background-color: #E8F0FE;\n",
              "      border: none;\n",
              "      border-radius: 50%;\n",
              "      cursor: pointer;\n",
              "      display: none;\n",
              "      fill: #1967D2;\n",
              "      height: 32px;\n",
              "      padding: 0 0 0 0;\n",
              "      width: 32px;\n",
              "    }\n",
              "\n",
              "    .colab-df-convert:hover {\n",
              "      background-color: #E2EBFA;\n",
              "      box-shadow: 0px 1px 2px rgba(60, 64, 67, 0.3), 0px 1px 3px 1px rgba(60, 64, 67, 0.15);\n",
              "      fill: #174EA6;\n",
              "    }\n",
              "\n",
              "    .colab-df-buttons div {\n",
              "      margin-bottom: 4px;\n",
              "    }\n",
              "\n",
              "    [theme=dark] .colab-df-convert {\n",
              "      background-color: #3B4455;\n",
              "      fill: #D2E3FC;\n",
              "    }\n",
              "\n",
              "    [theme=dark] .colab-df-convert:hover {\n",
              "      background-color: #434B5C;\n",
              "      box-shadow: 0px 1px 3px 1px rgba(0, 0, 0, 0.15);\n",
              "      filter: drop-shadow(0px 1px 2px rgba(0, 0, 0, 0.3));\n",
              "      fill: #FFFFFF;\n",
              "    }\n",
              "  </style>\n",
              "\n",
              "    <script>\n",
              "      const buttonEl =\n",
              "        document.querySelector('#df-138e80cf-401b-480d-833f-41c14b6b8793 button.colab-df-convert');\n",
              "      buttonEl.style.display =\n",
              "        google.colab.kernel.accessAllowed ? 'block' : 'none';\n",
              "\n",
              "      async function convertToInteractive(key) {\n",
              "        const element = document.querySelector('#df-138e80cf-401b-480d-833f-41c14b6b8793');\n",
              "        const dataTable =\n",
              "          await google.colab.kernel.invokeFunction('convertToInteractive',\n",
              "                                                    [key], {});\n",
              "        if (!dataTable) return;\n",
              "\n",
              "        const docLinkHtml = 'Like what you see? Visit the ' +\n",
              "          '<a target=\"_blank\" href=https://colab.research.google.com/notebooks/data_table.ipynb>data table notebook</a>'\n",
              "          + ' to learn more about interactive tables.';\n",
              "        element.innerHTML = '';\n",
              "        dataTable['output_type'] = 'display_data';\n",
              "        await google.colab.output.renderOutput(dataTable, element);\n",
              "        const docLink = document.createElement('div');\n",
              "        docLink.innerHTML = docLinkHtml;\n",
              "        element.appendChild(docLink);\n",
              "      }\n",
              "    </script>\n",
              "  </div>\n",
              "\n",
              "\n",
              "<div id=\"df-3c0b6f68-09a8-45cb-9f97-52477a73411f\">\n",
              "  <button class=\"colab-df-quickchart\" onclick=\"quickchart('df-3c0b6f68-09a8-45cb-9f97-52477a73411f')\"\n",
              "            title=\"Suggest charts\"\n",
              "            style=\"display:none;\">\n",
              "\n",
              "<svg xmlns=\"http://www.w3.org/2000/svg\" height=\"24px\"viewBox=\"0 0 24 24\"\n",
              "     width=\"24px\">\n",
              "    <g>\n",
              "        <path d=\"M19 3H5c-1.1 0-2 .9-2 2v14c0 1.1.9 2 2 2h14c1.1 0 2-.9 2-2V5c0-1.1-.9-2-2-2zM9 17H7v-7h2v7zm4 0h-2V7h2v10zm4 0h-2v-4h2v4z\"/>\n",
              "    </g>\n",
              "</svg>\n",
              "  </button>\n",
              "\n",
              "<style>\n",
              "  .colab-df-quickchart {\n",
              "      --bg-color: #E8F0FE;\n",
              "      --fill-color: #1967D2;\n",
              "      --hover-bg-color: #E2EBFA;\n",
              "      --hover-fill-color: #174EA6;\n",
              "      --disabled-fill-color: #AAA;\n",
              "      --disabled-bg-color: #DDD;\n",
              "  }\n",
              "\n",
              "  [theme=dark] .colab-df-quickchart {\n",
              "      --bg-color: #3B4455;\n",
              "      --fill-color: #D2E3FC;\n",
              "      --hover-bg-color: #434B5C;\n",
              "      --hover-fill-color: #FFFFFF;\n",
              "      --disabled-bg-color: #3B4455;\n",
              "      --disabled-fill-color: #666;\n",
              "  }\n",
              "\n",
              "  .colab-df-quickchart {\n",
              "    background-color: var(--bg-color);\n",
              "    border: none;\n",
              "    border-radius: 50%;\n",
              "    cursor: pointer;\n",
              "    display: none;\n",
              "    fill: var(--fill-color);\n",
              "    height: 32px;\n",
              "    padding: 0;\n",
              "    width: 32px;\n",
              "  }\n",
              "\n",
              "  .colab-df-quickchart:hover {\n",
              "    background-color: var(--hover-bg-color);\n",
              "    box-shadow: 0 1px 2px rgba(60, 64, 67, 0.3), 0 1px 3px 1px rgba(60, 64, 67, 0.15);\n",
              "    fill: var(--button-hover-fill-color);\n",
              "  }\n",
              "\n",
              "  .colab-df-quickchart-complete:disabled,\n",
              "  .colab-df-quickchart-complete:disabled:hover {\n",
              "    background-color: var(--disabled-bg-color);\n",
              "    fill: var(--disabled-fill-color);\n",
              "    box-shadow: none;\n",
              "  }\n",
              "\n",
              "  .colab-df-spinner {\n",
              "    border: 2px solid var(--fill-color);\n",
              "    border-color: transparent;\n",
              "    border-bottom-color: var(--fill-color);\n",
              "    animation:\n",
              "      spin 1s steps(1) infinite;\n",
              "  }\n",
              "\n",
              "  @keyframes spin {\n",
              "    0% {\n",
              "      border-color: transparent;\n",
              "      border-bottom-color: var(--fill-color);\n",
              "      border-left-color: var(--fill-color);\n",
              "    }\n",
              "    20% {\n",
              "      border-color: transparent;\n",
              "      border-left-color: var(--fill-color);\n",
              "      border-top-color: var(--fill-color);\n",
              "    }\n",
              "    30% {\n",
              "      border-color: transparent;\n",
              "      border-left-color: var(--fill-color);\n",
              "      border-top-color: var(--fill-color);\n",
              "      border-right-color: var(--fill-color);\n",
              "    }\n",
              "    40% {\n",
              "      border-color: transparent;\n",
              "      border-right-color: var(--fill-color);\n",
              "      border-top-color: var(--fill-color);\n",
              "    }\n",
              "    60% {\n",
              "      border-color: transparent;\n",
              "      border-right-color: var(--fill-color);\n",
              "    }\n",
              "    80% {\n",
              "      border-color: transparent;\n",
              "      border-right-color: var(--fill-color);\n",
              "      border-bottom-color: var(--fill-color);\n",
              "    }\n",
              "    90% {\n",
              "      border-color: transparent;\n",
              "      border-bottom-color: var(--fill-color);\n",
              "    }\n",
              "  }\n",
              "</style>\n",
              "\n",
              "  <script>\n",
              "    async function quickchart(key) {\n",
              "      const quickchartButtonEl =\n",
              "        document.querySelector('#' + key + ' button');\n",
              "      quickchartButtonEl.disabled = true;  // To prevent multiple clicks.\n",
              "      quickchartButtonEl.classList.add('colab-df-spinner');\n",
              "      try {\n",
              "        const charts = await google.colab.kernel.invokeFunction(\n",
              "            'suggestCharts', [key], {});\n",
              "      } catch (error) {\n",
              "        console.error('Error during call to suggestCharts:', error);\n",
              "      }\n",
              "      quickchartButtonEl.classList.remove('colab-df-spinner');\n",
              "      quickchartButtonEl.classList.add('colab-df-quickchart-complete');\n",
              "    }\n",
              "    (() => {\n",
              "      let quickchartButtonEl =\n",
              "        document.querySelector('#df-3c0b6f68-09a8-45cb-9f97-52477a73411f button');\n",
              "      quickchartButtonEl.style.display =\n",
              "        google.colab.kernel.accessAllowed ? 'block' : 'none';\n",
              "    })();\n",
              "  </script>\n",
              "</div>\n",
              "\n",
              "  <div id=\"id_4202fb24-0d08-4008-9c45-7f743eb10ada\">\n",
              "    <style>\n",
              "      .colab-df-generate {\n",
              "        background-color: #E8F0FE;\n",
              "        border: none;\n",
              "        border-radius: 50%;\n",
              "        cursor: pointer;\n",
              "        display: none;\n",
              "        fill: #1967D2;\n",
              "        height: 32px;\n",
              "        padding: 0 0 0 0;\n",
              "        width: 32px;\n",
              "      }\n",
              "\n",
              "      .colab-df-generate:hover {\n",
              "        background-color: #E2EBFA;\n",
              "        box-shadow: 0px 1px 2px rgba(60, 64, 67, 0.3), 0px 1px 3px 1px rgba(60, 64, 67, 0.15);\n",
              "        fill: #174EA6;\n",
              "      }\n",
              "\n",
              "      [theme=dark] .colab-df-generate {\n",
              "        background-color: #3B4455;\n",
              "        fill: #D2E3FC;\n",
              "      }\n",
              "\n",
              "      [theme=dark] .colab-df-generate:hover {\n",
              "        background-color: #434B5C;\n",
              "        box-shadow: 0px 1px 3px 1px rgba(0, 0, 0, 0.15);\n",
              "        filter: drop-shadow(0px 1px 2px rgba(0, 0, 0, 0.3));\n",
              "        fill: #FFFFFF;\n",
              "      }\n",
              "    </style>\n",
              "    <button class=\"colab-df-generate\" onclick=\"generateWithVariable('labels_per_image_csv')\"\n",
              "            title=\"Generate code using this dataframe.\"\n",
              "            style=\"display:none;\">\n",
              "\n",
              "  <svg xmlns=\"http://www.w3.org/2000/svg\" height=\"24px\"viewBox=\"0 0 24 24\"\n",
              "       width=\"24px\">\n",
              "    <path d=\"M7,19H8.4L18.45,9,17,7.55,7,17.6ZM5,21V16.75L18.45,3.32a2,2,0,0,1,2.83,0l1.4,1.43a1.91,1.91,0,0,1,.58,1.4,1.91,1.91,0,0,1-.58,1.4L9.25,21ZM18.45,9,17,7.55Zm-12,3A5.31,5.31,0,0,0,4.9,8.1,5.31,5.31,0,0,0,1,6.5,5.31,5.31,0,0,0,4.9,4.9,5.31,5.31,0,0,0,6.5,1,5.31,5.31,0,0,0,8.1,4.9,5.31,5.31,0,0,0,12,6.5,5.46,5.46,0,0,0,6.5,12Z\"/>\n",
              "  </svg>\n",
              "    </button>\n",
              "    <script>\n",
              "      (() => {\n",
              "      const buttonEl =\n",
              "        document.querySelector('#id_4202fb24-0d08-4008-9c45-7f743eb10ada button.colab-df-generate');\n",
              "      buttonEl.style.display =\n",
              "        google.colab.kernel.accessAllowed ? 'block' : 'none';\n",
              "\n",
              "      buttonEl.onclick = () => {\n",
              "        google.colab.notebook.generateWithVariable('labels_per_image_csv');\n",
              "      }\n",
              "      })();\n",
              "    </script>\n",
              "  </div>\n",
              "\n",
              "    </div>\n",
              "  </div>\n"
            ],
            "text/plain": [
              "           query_key view_label diagnosis_label\n",
              "0       4860s1_0.png        A4C     moderate_AS\n",
              "1       4860s1_1.png        A2C     moderate_AS\n",
              "2       4860s1_2.png       PLAX     moderate_AS\n",
              "3       4860s1_3.png       PLAX     moderate_AS\n",
              "4       4860s1_4.png       PLAX     moderate_AS\n",
              "...              ...        ...             ...\n",
              "24959  2797s1_28.png        A4C    Not_Provided\n",
              "24960    235s1_0.png       PLAX    Not_Provided\n",
              "24961    235s1_1.png        A4C    Not_Provided\n",
              "24962    235s1_2.png       PLAX    Not_Provided\n",
              "24963    235s1_3.png        A4C    Not_Provided\n",
              "\n",
              "[24964 rows x 3 columns]"
            ]
          },
          "execution_count": 6,
          "metadata": {},
          "output_type": "execute_result"
        }
      ],
      "source": [
        "labels_per_image_csv = pd.read_csv('labels_per_image.csv')\n",
        "labels_per_image_csv"
      ]
    },
    {
      "cell_type": "code",
      "execution_count": null,
      "metadata": {
        "colab": {
          "base_uri": "https://localhost:8080/",
          "height": 469
        },
        "id": "PnKMVSh08O3Q",
        "outputId": "4497ca18-f952-41ce-d167-6c37029e01cb"
      },
      "outputs": [
        {
          "data": {
            "text/plain": [
              "Text(0.5, 1.0, 'Diagnosis Label Distribution')"
            ]
          },
          "execution_count": 7,
          "metadata": {},
          "output_type": "execute_result"
        },
        {
          "data": {
            "image/png": "[encoded data removed]",
            "text/plain": [
              "<Figure size 640x480 with 1 Axes>"
            ]
          },
          "metadata": {},
          "output_type": "display_data"
        }
      ],
      "source": [
        "from matplotlib import pyplot as plt\n",
        "import seaborn as sns\n",
        "labels_per_image_csv.groupby('diagnosis_label').size().plot(kind='barh', color=sns.palettes.mpl_palette('Dark2'))\n",
        "plt.gca().spines[['top', 'right',]].set_visible(False)\n",
        "plt.title('Diagnosis Label Distribution')"
      ]
    },
    {
      "cell_type": "code",
      "execution_count": null,
      "metadata": {
        "colab": {
          "base_uri": "https://localhost:8080/",
          "height": 469
        },
        "id": "a6tu2plV8Kc-",
        "outputId": "0cfc98a9-1cf3-4957-c22c-826d4ddfffff"
      },
      "outputs": [
        {
          "data": {
            "text/plain": [
              "Text(0.5, 1.0, 'View Label Distribution')"
            ]
          },
          "execution_count": 8,
          "metadata": {},
          "output_type": "execute_result"
        },
        {
          "data": {
            "image/png": "[encoded data removed]",
            "text/plain": [
              "<Figure size 640x480 with 1 Axes>"
            ]
          },
          "metadata": {},
          "output_type": "display_data"
        }
      ],
      "source": [
        "from matplotlib import pyplot as plt\n",
        "import seaborn as sns\n",
        "labels_per_image_csv.groupby('view_label').size().plot(kind='barh', color=sns.palettes.mpl_palette('Dark2'))\n",
        "plt.gca().spines[['top', 'right',]].set_visible(False)\n",
        "plt.title('View Label Distribution')"
      ]
    },
    {
      "cell_type": "markdown",
      "metadata": {
        "id": "g3q1yPmn_dSY"
      },
      "source": [
        "**visualization from `view_and_diagnosis_labeled_set`**"
      ]
    },
    {
      "cell_type": "code",
      "execution_count": null,
      "metadata": {
        "colab": {
          "base_uri": "https://localhost:8080/"
        },
        "id": "tLRChNYe8xJy",
        "outputId": "6d861e6e-e094-4e69-b21d-09602bf66869"
      },
      "outputs": [
        {
          "name": "stdout",
          "output_type": "stream",
          "text": [
            "number of images in the ImageList_view_and_diagnosis_labeledset: 14490\n"
          ]
        }
      ],
      "source": [
        "ImageList_view_and_diagnosis_labeled_set = os.listdir('view_and_diagnosis_labeled_set/labeled 2')\n",
        "print('number of images in the ImageList_view_and_diagnosis_labeledset: {}'.format(len(ImageList_view_and_diagnosis_labeled_set)))"
      ]
    },
    {
      "cell_type": "code",
      "execution_count": null,
      "metadata": {
        "id": "CFB9FOgN9Ny_"
      },
      "outputs": [],
      "source": [
        "im_to_visualize = random.choice(ImageList_view_and_diagnosis_labeled_set)\n",
        "view_label, diagnosis_label = find_label(im_to_visualize)"
      ]
    },
    {
      "cell_type": "code",
      "execution_count": null,
      "metadata": {
        "colab": {
          "base_uri": "https://localhost:8080/",
          "height": 441
        },
        "id": "uo2Jw7X2_cCI",
        "outputId": "959f9d07-784f-43bc-9ec4-9292adb1bc0c"
      },
      "outputs": [
        {
          "name": "stdout",
          "output_type": "stream",
          "text": [
            "Currently visualizing 1089s1_42.png from labeled set\n",
            "view: PLAX, diagnosis: severe_AS\n"
          ]
        },
        {
          "data": {
            "image/png": "[encoded data removed]",
            "text/plain": [
              "<Figure size 640x480 with 1 Axes>"
            ]
          },
          "metadata": {},
          "output_type": "display_data"
        }
      ],
      "source": [
        "print('Currently visualizing {} from labeled set'.format(im_to_visualize))\n",
        "print('view: {}, diagnosis: {}'.format(view_label, diagnosis_label))\n",
        "ShowGrayscaleImage(os.path.join('view_and_diagnosis_labeled_set/labeled 2', im_to_visualize))"
      ]
    },
    {
      "cell_type": "markdown",
      "metadata": {
        "id": "MvvR35Kg_hDg"
      },
      "source": [
        "**visualization `from view_labeled_set`**"
      ]
    },
    {
      "cell_type": "code",
      "execution_count": null,
      "metadata": {
        "colab": {
          "base_uri": "https://localhost:8080/"
        },
        "id": "F_cqOL7V_nVn",
        "outputId": "4ed2e3df-0249-49dc-b4ed-cf22313fa5e3"
      },
      "outputs": [
        {
          "name": "stdout",
          "output_type": "stream",
          "text": [
            "number of images in the ImageList_view_labeledset: 7694\n"
          ]
        }
      ],
      "source": [
        "ImageList_view_labeledset = os.listdir('view_labeled_set/labeled')\n",
        "print('number of images in the ImageList_view_labeledset: {}'.format(len(ImageList_view_labeledset)))"
      ]
    },
    {
      "cell_type": "code",
      "execution_count": null,
      "metadata": {
        "id": "ZezDRPPt_y7s"
      },
      "outputs": [],
      "source": [
        "im_to_visualize = random.choice(ImageList_view_labeledset)\n",
        "view_label, diagnosis_label = find_label(im_to_visualize)"
      ]
    },
    {
      "cell_type": "code",
      "execution_count": null,
      "metadata": {
        "colab": {
          "base_uri": "https://localhost:8080/",
          "height": 441
        },
        "id": "BVNT1-m4_09g",
        "outputId": "d67fe611-0373-4ad6-ee16-8f0f59f44615"
      },
      "outputs": [
        {
          "name": "stdout",
          "output_type": "stream",
          "text": [
            "Currently visualizing 4465s1_2.png from labeled set\n",
            "view: A2C, diagnosis: Not_Provided\n"
          ]
        },
        {
          "data": {
            "image/png": "[encoded data removed]",
            "text/plain": [
              "<Figure size 640x480 with 1 Axes>"
            ]
          },
          "metadata": {},
          "output_type": "display_data"
        }
      ],
      "source": [
        "print('Currently visualizing {} from labeled set'.format(im_to_visualize))\n",
        "print('view: {}, diagnosis: {}'.format(view_label, diagnosis_label))\n",
        "ShowGrayscaleImage(os.path.join('view_labeled_set/labeled', im_to_visualize))"
      ]
    }
  ],
  "metadata": {
    "colab": {
      "provenance": []
    },
    "kernelspec": {
      "display_name": "Python 3",
      "name": "python3"
    },
    "language_info": {
      "codemirror_mode": {
        "name": "ipython",
        "version": 3
      },
      "file_extension": ".py",
      "mimetype": "text/x-python",
      "name": "python",
      "nbconvert_exporter": "python",
      "pygments_lexer": "ipython3",
      "version": "3.9.6"
    }
  },
  "nbformat": 4,
  "nbformat_minor": 0
}
