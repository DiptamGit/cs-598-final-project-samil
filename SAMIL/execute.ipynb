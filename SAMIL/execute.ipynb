{
 "cells": [
  {
   "cell_type": "code",
   "execution_count": 1,
   "metadata": {},
   "outputs": [],
   "source": [
    "import torch"
   ]
  },
  {
   "cell_type": "code",
   "execution_count": 2,
   "metadata": {},
   "outputs": [],
   "source": [
    "import os"
   ]
  },
  {
   "cell_type": "code",
   "execution_count": 3,
   "metadata": {},
   "outputs": [],
   "source": [
    "os.environ['ROOT_DIR'] = os.getcwd()\n",
    "os.environ['DATA_INFO_DIR'] = '/Users/cho-seonggeun/Documents/GitHub/SAMIL/data_info'\n",
    "os.environ['DATA_DIR'] = '/Users/cho-seonggeun/Documents/GitHub/SAMIL/TMED2/approved_users_only/view_and_diagnosis_labeled_set'\n",
    "os.environ['CHECKPOINT_DIR'] = '/Users/cho-seonggeun/Documents/GitHub/SAMIL/model_checkpoints'"
   ]
  },
  {
   "cell_type": "code",
   "execution_count": 4,
   "metadata": {},
   "outputs": [],
   "source": [
    "    os.chdir('runs/SAMIL')"
   ]
  },
  {
   "cell_type": "code",
   "execution_count": 9,
   "metadata": {},
   "outputs": [
    {
     "name": "stdout",
     "output_type": "stream",
     "text": [
      "04/24/2024 21:59:08 - INFO - __main__ -   {'dataset_name': 'echo', 'data_seed': 0, 'development_size': 'DEV479', 'training_seed': 0, 'sampling_strategy': 'first_frame', 'train_epoch': 2000, 'start_epoch': 0, 'eval_every_Xepoch': 1, 'Pretrained': 'Whole', 'resume': 'last_checkpoint.pth.tar', 'resume_checkpoint_fullpath': '', 'train_dir': '/Users/cho-seonggeun/Documents/GitHub/SAMIL/experiments/SAMIL/Pretrained-Whole/data_seed0/training_seed0/DEV479/', 'data_info_dir': '/Users/cho-seonggeun/Documents/GitHub/SAMIL/data_info', 'data_dir': '/Users/cho-seonggeun/Documents/GitHub/SAMIL/TMED2/approved_users_only/view_and_diagnosis_labeled_set', 'checkpoint_dir': '/Users/cho-seonggeun/Documents/GitHub/SAMIL/model_checkpoints', 'train_PatientStudy_list_path': '/Users/cho-seonggeun/Documents/GitHub/SAMIL/data_info/DataPartition/seed0/DEV479/FullyLabeledSet_studies/train_studies.csv', 'val_PatientStudy_list_path': '/Users/cho-seonggeun/Documents/GitHub/SAMIL/data_info/DataPartition/seed0/DEV479/FullyLabeledSet_studies/val_studies.csv', 'test_PatientStudy_list_path': '/Users/cho-seonggeun/Documents/GitHub/SAMIL/data_info/DataPartition/seed0/DEV479/FullyLabeledSet_studies/test_studies.csv', 'lr': 5e-05, 'lr_warmup_epochs': 0, 'lr_schedule_type': 'CosineLR', 'lr_cycle_epochs': 2000, 'wd': 0.0001, 'optimizer_type': 'SGD', 'nesterov': True, 'ema_decay': 0.999, 'num_classes': 3, 'batch_size': 1, 'num_workers': 8, 'patience': 200, 'early_stopping_warmup': 200, 'T': 0.03, 'lambda_ViewRegularization': 5.0, 'view_checkpoint_path': '', 'ViewRegularization_warmup_pos': 0.4, 'ViewRegularization_warmup_schedule_type': 'Linear', 'use_class_weights': 'True', 'class_weights': '0.25,0.25,0.25', 'augmentation': 'RandAug', 'use_data_normalization': 'False', 'device': 'cpu'}\n",
      "setting training seed0\n",
      "!!!!!!!!Using pre-calculated class weights!!!!!!!!\n",
      "args.resume_checkpoint_fullpath: /Users/cho-seonggeun/Documents/GitHub/SAMIL/experiments/SAMIL/Pretrained-Whole/data_seed0/training_seed0/DEV479/ViewRegularization_warmup-Linear_Optimizer-SGD_LrSchedule-CosineLR_LrCycleEpochs-2000_lr-5e-05_wd-0.0001_T-0.03_lambdaViewRegularization-5.0/last_checkpoint.pth.tar\n"
     ]
    }
   ],
   "source": [
    "!bash launch_experiment.sh run_here"
   ]
  },
  {
   "cell_type": "code",
   "execution_count": 21,
   "metadata": {},
   "outputs": [],
   "source": [
    "import pandas as pd\n",
    "from PIL import Image\n",
    "import numpy as np"
   ]
  },
  {
   "cell_type": "code",
   "execution_count": null,
   "metadata": {},
   "outputs": [],
   "source": [
    "PatientStudy_list = ['3639s1' '6080s1' '1519s2' '5846s2' '5730s1' '5730s2' '3891s1' '3112s3'\n",
    " '2652s2' '3963s1' '5112s2' '5098s2'...]"
   ]
  },
  {
   "cell_type": "code",
   "execution_count": 13,
   "metadata": {},
   "outputs": [],
   "source": [
    "DiagnosisStr_to_Int_Mapping={\n",
    "    'no_AS':0,\n",
    "    'mild_AS':1,\n",
    "    'mildtomod_AS':1,\n",
    "    'moderate_AS':2,\n",
    "    'severe_AS':2   \n",
    "}"
   ]
  },
  {
   "cell_type": "code",
   "execution_count": 9,
   "metadata": {},
   "outputs": [],
   "source": [
    "TMED2SummaryTable = pd.read_csv('/Users/cho-seonggeun/Documents/GitHub/SAMIL/data_info/TMED2SummaryTable.csv')"
   ]
  },
  {
   "cell_type": "code",
   "execution_count": 14,
   "metadata": {},
   "outputs": [],
   "source": [
    "this_PatientStudyRecords_from_TMED2SummaryTable = TMED2SummaryTable[TMED2SummaryTable['patient_study'] == '3639s1']\n",
    "this_PatientStudyRecords_from_TMED2SummaryTable_DiagnosisLabel = list(set(this_PatientStudyRecords_from_TMED2SummaryTable.diagnosis_label.values)) # no_AS\n",
    "\n",
    "this_PatientStudy_DiagnosisLabel = this_PatientStudyRecords_from_TMED2SummaryTable_DiagnosisLabel[0]\n",
    "this_PatientStudy_DiagnosisLabel = DiagnosisStr_to_Int_Mapping[this_PatientStudy_DiagnosisLabel]"
   ]
  },
  {
   "cell_type": "code",
   "execution_count": null,
   "metadata": {},
   "outputs": [],
   "source": [
    "all_TiffFilename_this_PatientStudy = [i for i in os.listdir]"
   ]
  },
  {
   "cell_type": "code",
   "execution_count": 18,
   "metadata": {},
   "outputs": [
    {
     "name": "stdout",
     "output_type": "stream",
     "text": [
      "3639s1_5.png\n",
      "3639s1_4.png\n",
      "3639s1_6.png\n",
      "3639s1_7.png\n",
      "3639s1_3.png\n",
      "3639s1_12.png\n",
      "3639s1_13.png\n",
      "3639s1_2.png\n",
      "3639s1_0.png\n",
      "3639s1_11.png\n",
      "3639s1_10.png\n",
      "3639s1_1.png\n",
      "3639s1_9.png\n",
      "3639s1_8.png\n"
     ]
    }
   ],
   "source": [
    "for i in os.listdir(os.path.join(os.environ['DATA_DIR'], 'labeled')):\n",
    "    if '3639s1' in i:\n",
    "        print(i)"
   ]
  },
  {
   "cell_type": "code",
   "execution_count": 22,
   "metadata": {},
   "outputs": [],
   "source": [
    "raw_png = Image.open(os.path.join(os.environ['DATA_DIR'], 'labeled', '3639s1_5.png'))"
   ]
  },
  {
   "cell_type": "code",
   "execution_count": 24,
   "metadata": {},
   "outputs": [],
   "source": [
    "png_array = np.array(raw_png)"
   ]
  },
  {
   "cell_type": "code",
   "execution_count": 27,
   "metadata": {},
   "outputs": [
    {
     "data": {
      "text/plain": [
       "(112,)"
      ]
     },
     "execution_count": 27,
     "metadata": {},
     "output_type": "execute_result"
    }
   ],
   "source": [
    "png_array[0].shape"
   ]
  }
 ],
 "metadata": {
  "kernelspec": {
   "display_name": "Python 3",
   "language": "python",
   "name": "python3"
  },
  "language_info": {
   "codemirror_mode": {
    "name": "ipython",
    "version": 3
   },
   "file_extension": ".py",
   "mimetype": "text/x-python",
   "name": "python",
   "nbconvert_exporter": "python",
   "pygments_lexer": "ipython3",
   "version": "3.11.4"
  }
 },
 "nbformat": 4,
 "nbformat_minor": 2
}
