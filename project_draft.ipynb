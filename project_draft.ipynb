{
 "cells": [
  {
   "cell_type": "markdown",
   "metadata": {},
   "source": [
    "## Introduction\n",
    "\n",
    "The paper, **Detecting Heart Disease from Multi-View Ultrasound Images via Supervised Attention Multiple Instance Learning** addresses the significant challenge of diagnosing Aortic Stenosis (AS), a severe valve condition that causes considerable morbidity and mortality, from ultrasound images. Traditional methods for AS diagnosis involve expert review of echocardiography images, but this manual process is prone to under-diagnosis and under-treatment due to its dependence on expert availability and their subjective interpretation. The authors introduce a novel approach leveraging deep learning to automate AS screening, focusing on the ability of their model to mimic expert processes in identifying relevant views of the aortic valve across multiple ultrasound images to generate an accurate study-level diagnosis.\n",
    "\n",
    "**Their contribution is twofold**: \n",
    "\n",
    "- First, they propose a new end-to-end Multiple Instance Learning (MIL) approach incorporating supervised attention, guiding the model to prioritize views relevant for AS diagnosis. This advancement addresses the limitations of previous models that either underperform due to inflexible averaging of images or lack the ability to differentiate between relevant and irrelevant views effectively. \n",
    "\n",
    "- Second, they introduce a self-supervised pretraining strategy focused on the entire study rather than individual images, enhancing the model's ability to understand complex patterns across multiple views. This method significantly improves upon the accuracy of AS detection, outperforming existing models while also achieving a reduction in model size, which facilitates easier deployment and application in clinical settings. Through extensive experiments using an open-access dataset and a temporally-external heldout set, the authors demonstrate the superiority of their approach in accurately diagnosing AS, thereby offering a promising tool for early screening and potentially improving patient outcomes by enabling timely treatment interventions.\n",
    "\n",
    "*Original paper* [link](https://www.ncbi.nlm.nih.gov/pmc/articles/PMC10923076/)\n",
    "\n",
    "*Citation*\n",
    "\n",
    "@article{huang2023detecting,\n",
    "  title={Detecting Heart Disease from Multi-View Ultrasound Images via Supervised Attention Multiple Instance Learning},\n",
    "  author={Huang, Zhe and Wessler, Benjamin S and Hughes, Michael C},\n",
    "  journal={arXiv preprint arXiv:2306.00003},\n",
    "  year={2023}\n",
    "}\n",
    "\n"
   ]
  },
  {
   "cell_type": "markdown",
   "metadata": {},
   "source": []
  },
  {
   "cell_type": "markdown",
   "metadata": {},
   "source": [
    "## Scope of Reproducibily\n",
    "\n",
    "The paper sets a high benchmark for reproducibility in computational healthcare research, especially in the domain of diagnosing heart diseases using ultrasound images. The scope of reproducibility encompasses several critical aspects. Firstly, the authors have made their code publicly available, which is a significant step towards enabling other researchers to replicate their findings, understand the nuances of their methodology, and extend the work further. This openness in sharing code ensures that the novel supervised attention multiple instance learning (MIL) approach and the self-supervised pretraining strategy can be thoroughly examined, critiqued, and built upon.\n",
    "\n",
    "Secondly, the utilization of an open-access dataset for training and validating the model underlines the paper's commitment to reproducibility. By relying on publicly available data, the authors ensure that others can replicate their experimental setup without encountering data access barriers. This approach also allows for the evaluation of the model's effectiveness across different datasets, which is crucial for assessing its generalizability and potential applicability in various clinical settings.\n",
    "\n",
    "Lastly, the detailed documentation of the methodology, from the formulation of the problem to the implementation of the MIL approach and the pretraining strategy, provides a clear roadmap for replication. The authors’ comprehensive descriptions of their experiments, including model parameters and evaluation metrics, further aid in reproducing the research outcomes.\n",
    "\n",
    "*While the aforementioned statements hold true, our reproducibility efforts will prioritize two main objectives. Firstly, we aim to transform extensive Python code bases into functional notebooks, with a particular emphasis on streamlining the process. Secondly, we intend to execute successful training procedures for DSMIL, ABMIL, and SAMIL, followed by performance evaluations. Despite the considerable size of the data, we are endeavoring to conduct these tasks locally using a CUDA-powered GPU machine. Our previous attempts utilizing Colab and Drive connections yielded suboptimal performance. Depending on the time required to execute all simulations, we will adjust the dataset accordingly and present the final outcomes.*"
   ]
  },
  {
   "cell_type": "markdown",
   "metadata": {},
   "source": []
  },
  {
   "cell_type": "markdown",
   "metadata": {},
   "source": [
    "## Dataset descriptions\n",
    "\n",
    "The TMED dataset comprises transthoracic echocardiogram (TTE) imagery collected from routine care procedures adhering to American Society of Echocardiography (ASE) guidelines, spanning the period from 2011 to 2020 at Tufts Medical Center. During echocardiogram acquisition, a sonographer maneuvers a handheld transducer across the patient's chest, selecting various acquisition angles to comprehensively assess the intricate anatomy of the heart. This process yields multiple cineloop video clips showcasing different anatomical views of the heart. From each clip, author extracted a single still image, resulting in multiple images per patient study (typically 50-100 images). While neither view nor diagnostic labels are initially recorded during routine care, diagnostic labels, such as those for aortic stenosis (AS), are assigned by expert clinicians hours or days post-study, based on comprehensive review of the acquired videos and images. These labels are later incorporated into the patient's electronic medical record, making extraction into a machine-readable format challenging. To address this, significant annotation efforts were undertaken to assign view labels to a subset of the data, while diagnostic labels were manually extracted from existing medical records by board-certified cardiologists.\n",
    "\n",
    "#### TMED2 Specific information\n",
    "\n",
    "complete TMED-2 dataset release (dated 2022-07-12) contains three components:\n",
    "\n",
    "* view_and_diagnosis_labeled_set : 599 studies from 577 unique patients (some patients have multiple studies on distinct days).\n",
    "\n",
    "  - All patients have an aortic stenosis (AS) diagnostic label (none, early AS, or significant AS; for more see our severity diagnosis label primer)\n",
    "\n",
    "  - Some images from each study have view label annotations (one of PLAX/PSAX/A2C/A4C/other, for more see our view label primer)\n",
    "\n",
    "  - We partition these by patient into different \"splits\" of 360 training / 119 validation / 120 test studies.\n",
    "\n",
    "* view_labeled_set : 705 studies from 703 unique patients \n",
    "  - These studies have view labels, but no AS diagnosis labels\n",
    "\n",
    "* unlabeled_set : 5486 studies from 5287 patients\n",
    "\n",
    "\n",
    "\n",
    "Summary statistics of latest released TMED-2 dataset\n",
    "\n",
    "<table>\n",
    "  <thead>\n",
    "    <tr>\n",
    "      <th style=\"background-color: #E55616;\">Dataset</th>\n",
    "      <th style=\"background-color: #E9672E;\">Num. Patients</th>\n",
    "      <th style=\"background-color: #E9672E;\">Num. Studies</th>\n",
    "      <th style=\"background-color: #E9672E;\">Num. Labeled Images</th>\n",
    "      <th style=\"background-color: #E9672E;\">Num. Unlabeled Images</th>\n",
    "    </tr>\n",
    "  </thead>\n",
    "  <tbody>\n",
    "    <tr>\n",
    "      <td>fully labeled set</td>\n",
    "      <td>577</td>\n",
    "      <td>599</td>\n",
    "      <td>17270</td>\n",
    "      <td>26596</td>\n",
    "    </tr>\n",
    "    <tr>\n",
    "      <td>partially labeled set</td>\n",
    "      <td>703</td>\n",
    "      <td>705</td>\n",
    "      <td>7694</td>\n",
    "      <td>37576</td>\n",
    "    </tr>\n",
    "    <tr>\n",
    "      <td>unlabeled set</td>\n",
    "      <td>5287</td>\n",
    "      <td>5486</td>\n",
    "      <td>0</td>\n",
    "      <td>353500</td>\n",
    "    </tr>\n",
    "  </tbody>\n",
    "</table>\n",
    "\n",
    "##### Dataset format\n",
    "\n",
    "Every image in this dataset is a 2D TTE image stored at 112x112 pixel resolution in PNG format.\n",
    "\n",
    "The top-level directory contains:\n",
    "\n",
    "- labels, stored in comma-separated-value (CSV) plain-text files\n",
    "- images, stored within folders as 112x112 pixel grayscale PNG files\n",
    "\n",
    "Images are stored within a hierarchy of folders representing the sets that comprise TMED-2:\n",
    "\n",
    "- <span style=\"color:#E32144\">view_and_diagnosis_labeled_set/labeled/</span>\n",
    "- <span style=\"color:#E32144\">view_and_diagnosis_labeled_set/unlabeled/</span>\n",
    "- <span style=\"color:#E32144\">view_labeled_set/labeled/</span>\n",
    "- <span style=\"color:#E32144\">view_labeled_set/unlabeled/</span>\n",
    "- <span style=\"color:#E32144\">unlabeled_set/unlabeled/</span>\n",
    "\n",
    "\n",
    "Each set's labeled/ subfolder contains only images with view labels. Each set's unlabeled/ subfolder contains only images without any view labels.\n",
    "\n",
    "The individual image files are stored as 112x112 pixel grayscale PNG files within the appropriate folder.\n",
    "\n",
    "For example, the fully-labeled set looks like:\n",
    "\n",
    "- view_and_diagnosis_labeled_set/labeled/2977s1_0.png\n",
    "- view_and_diagnosis_labeled_set/labeled/2977s1_1.png\n",
    "- view_and_diagnosis_labeled_set/labeled/2977s1_2.png\n",
    "\n",
    "- view_and_diagnosis_labeled_set/labeled/2977s1_19.png\n",
    "- view_and_diagnosis_labeled_set/labeled/1907s2_0.png\n",
    "- view_and_diagnosis_labeled_set/labeled/1907s2_1.png\n",
    "- view_and_diagnosis_labeled_set/labeled/1907s2_2.png\n",
    "\n",
    "- view_and_diagnosis_labeled_set/labeled/1907s2_24.png\n",
    "\n",
    "The naming convention of these files is <span style=\"color:#E32144\">[PatientID]s[StudyID]_[ImageID].png</span>\n",
    "\n",
    "PatientIDs are unique random identifiers (consistent across the whole dataset)\n",
    "Each StudyID (counting up from 1) indicates one session of echocardiogram imagery captured on one day.\n",
    "Each ImageID (counting up from 0) distinguishes each image within a subset. ImageID is not unique across even the labeled/ and unlabeled/ image sets, so please use the full path if you need a unique identifier.\n",
    "\n",
    "\n",
    "> *Please be advised that as per the authors' instructions, we are required to utilize their provided data information, which includes train, test, and validation sets, along with a summary table. Specifically, for TMED2, we are to utilize the folder named \"view_and_diagnosis_labeled_set\". We will adhere to these guidelines accordingly. \n",
    "\n",
    "\n",
    ">You can download the necessary data folders for the experiment from the provided box [link](https://uofi.box.com/s/g5dgfour7684re3afs8ohvqyxax2zgdr) and all the codes can be cloned from thik [git_link](https://github.com/DiptamGit/cs-598-final-project-samil) Subsequent sections will include some basic visualizations. To execute the visualization code, please ensure that you have downloaded and all the stored folders, \"data_info\" and \"view_and_diagnosis_labeled_set\" and model_checkpoints, in the same directory as your notebook. \"view_and_diagnosis_labeled_set\" will have two zip files inside, please unzip them in same location,This placement will also suffice for the modeling sections; hence, we will not include a separate section prior to that. All pip installation information are kept as requirment.txt, However, we will include a helpful folder hierarchy to ensure organizational coherence.*\n",
    "\n"
   ]
  },
  {
   "attachments": {
    "image.png": {
     "image/png": "[encoded data removed]"
    }
   },
   "cell_type": "markdown",
   "metadata": {},
   "source": [
    "***** Before attempting below codes, please make sure you directory looks like this *****\n",
    "\n",
    "![image.png](attachment:image.png)\n",
    "\n"
   ]
  },
  {
   "cell_type": "code",
   "execution_count": 2,
   "metadata": {},
   "outputs": [],
   "source": [
    "import pandas as pd\n",
    "import matplotlib.pyplot as plt\n",
    "import seaborn as sns\n",
    "import numpy as np\n",
    "import os\n",
    "import random\n",
    "import PIL.Image as Image"
   ]
  },
  {
   "cell_type": "markdown",
   "metadata": {},
   "source": [
    "#### Author provided TMED2 Summary Table Visualization"
   ]
  },
  {
   "cell_type": "code",
   "execution_count": 3,
   "metadata": {},
   "outputs": [],
   "source": [
    "auther_data_summary = pd.read_csv(\"SAMIL/data_info/TMED2SummaryTable.csv\")"
   ]
  },
  {
   "cell_type": "code",
   "execution_count": 5,
   "metadata": {},
   "outputs": [
    {
     "data": {
      "image/png": "[encoded data removed]",
      "text/plain": [
       "<Figure size 700x400 with 1 Axes>"
      ]
     },
     "metadata": {},
     "output_type": "display_data"
    }
   ],
   "source": [
    "sns.set_theme(style=\"whitegrid\")\n",
    "\n",
    "diagnosis_counts = auther_data_summary['diagnosis_label'].value_counts()\n",
    "\n",
    "plt.figure(figsize=(7, 4))\n",
    "sns.barplot(x=diagnosis_counts.values, y=diagnosis_counts.index, hue=diagnosis_counts.index, palette=\"viridis\", legend=False)\n",
    "plt.title('Distribution of Diagnosis Labels', fontsize=16)\n",
    "plt.xlabel('Count', fontsize=14)\n",
    "plt.ylabel('Diagnosis Label', fontsize=14)\n",
    "plt.show()\n",
    "\n",
    "\n",
    "\n"
   ]
  },
  {
   "cell_type": "code",
   "execution_count": 6,
   "metadata": {},
   "outputs": [
    {
     "data": {
      "image/png": "[encoded data removed]",
      "text/plain": [
       "<Figure size 1000x300 with 1 Axes>"
      ]
     },
     "metadata": {},
     "output_type": "display_data"
    }
   ],
   "source": [
    "sns.set_theme(style=\"whitegrid\")\n",
    "\n",
    "study_counts = auther_data_summary['patient_study'].value_counts().head(5)\n",
    "\n",
    "plt.figure(figsize=(10, 3))\n",
    "sns.barplot(x=study_counts.values, y=study_counts.index, hue=study_counts.index, palette=\"coolwarm\", legend=False)\n",
    "plt.title('Top 5 Patient Studies by Frequency', fontsize=16)\n",
    "plt.xlabel('Count', fontsize=14)\n",
    "plt.ylabel('Patient Study', fontsize=14)\n",
    "plt.show()\n",
    "\n"
   ]
  },
  {
   "cell_type": "markdown",
   "metadata": {},
   "source": [
    "#### TMED2 Image label Visualization from original dataset"
   ]
  },
  {
   "cell_type": "code",
   "execution_count": 8,
   "metadata": {},
   "outputs": [
    {
     "data": {
      "text/html": [
       "<div>\n",
       "<style scoped>\n",
       "    .dataframe tbody tr th:only-of-type {\n",
       "        vertical-align: middle;\n",
       "    }\n",
       "\n",
       "    .dataframe tbody tr th {\n",
       "        vertical-align: top;\n",
       "    }\n",
       "\n",
       "    .dataframe thead th {\n",
       "        text-align: right;\n",
       "    }\n",
       "</style>\n",
       "<table border=\"1\" class=\"dataframe\">\n",
       "  <thead>\n",
       "    <tr style=\"text-align: right;\">\n",
       "      <th></th>\n",
       "      <th>query_key</th>\n",
       "      <th>view_label</th>\n",
       "      <th>diagnosis_label</th>\n",
       "    </tr>\n",
       "  </thead>\n",
       "  <tbody>\n",
       "    <tr>\n",
       "      <th>0</th>\n",
       "      <td>4860s1_0.png</td>\n",
       "      <td>A4C</td>\n",
       "      <td>moderate_AS</td>\n",
       "    </tr>\n",
       "    <tr>\n",
       "      <th>1</th>\n",
       "      <td>4860s1_1.png</td>\n",
       "      <td>A2C</td>\n",
       "      <td>moderate_AS</td>\n",
       "    </tr>\n",
       "    <tr>\n",
       "      <th>2</th>\n",
       "      <td>4860s1_2.png</td>\n",
       "      <td>PLAX</td>\n",
       "      <td>moderate_AS</td>\n",
       "    </tr>\n",
       "    <tr>\n",
       "      <th>3</th>\n",
       "      <td>4860s1_3.png</td>\n",
       "      <td>PLAX</td>\n",
       "      <td>moderate_AS</td>\n",
       "    </tr>\n",
       "    <tr>\n",
       "      <th>4</th>\n",
       "      <td>4860s1_4.png</td>\n",
       "      <td>PLAX</td>\n",
       "      <td>moderate_AS</td>\n",
       "    </tr>\n",
       "    <tr>\n",
       "      <th>...</th>\n",
       "      <td>...</td>\n",
       "      <td>...</td>\n",
       "      <td>...</td>\n",
       "    </tr>\n",
       "    <tr>\n",
       "      <th>24959</th>\n",
       "      <td>2797s1_28.png</td>\n",
       "      <td>A4C</td>\n",
       "      <td>Not_Provided</td>\n",
       "    </tr>\n",
       "    <tr>\n",
       "      <th>24960</th>\n",
       "      <td>235s1_0.png</td>\n",
       "      <td>PLAX</td>\n",
       "      <td>Not_Provided</td>\n",
       "    </tr>\n",
       "    <tr>\n",
       "      <th>24961</th>\n",
       "      <td>235s1_1.png</td>\n",
       "      <td>A4C</td>\n",
       "      <td>Not_Provided</td>\n",
       "    </tr>\n",
       "    <tr>\n",
       "      <th>24962</th>\n",
       "      <td>235s1_2.png</td>\n",
       "      <td>PLAX</td>\n",
       "      <td>Not_Provided</td>\n",
       "    </tr>\n",
       "    <tr>\n",
       "      <th>24963</th>\n",
       "      <td>235s1_3.png</td>\n",
       "      <td>A4C</td>\n",
       "      <td>Not_Provided</td>\n",
       "    </tr>\n",
       "  </tbody>\n",
       "</table>\n",
       "<p>24964 rows × 3 columns</p>\n",
       "</div>"
      ],
      "text/plain": [
       "           query_key view_label diagnosis_label\n",
       "0       4860s1_0.png        A4C     moderate_AS\n",
       "1       4860s1_1.png        A2C     moderate_AS\n",
       "2       4860s1_2.png       PLAX     moderate_AS\n",
       "3       4860s1_3.png       PLAX     moderate_AS\n",
       "4       4860s1_4.png       PLAX     moderate_AS\n",
       "...              ...        ...             ...\n",
       "24959  2797s1_28.png        A4C    Not_Provided\n",
       "24960    235s1_0.png       PLAX    Not_Provided\n",
       "24961    235s1_1.png        A4C    Not_Provided\n",
       "24962    235s1_2.png       PLAX    Not_Provided\n",
       "24963    235s1_3.png        A4C    Not_Provided\n",
       "\n",
       "[24964 rows x 3 columns]"
      ]
     },
     "execution_count": 8,
     "metadata": {},
     "output_type": "execute_result"
    }
   ],
   "source": [
    "tmed2_label_per_image = pd.read_csv('SAMIL/data_info/labels_per_image.csv')\n",
    "\n",
    "tmed2_label_per_image\n"
   ]
  },
  {
   "cell_type": "code",
   "execution_count": 9,
   "metadata": {},
   "outputs": [
    {
     "data": {
      "image/png": "[encoded data removed]",
      "text/plain": [
       "<Figure size 1200x500 with 2 Axes>"
      ]
     },
     "metadata": {},
     "output_type": "display_data"
    }
   ],
   "source": [
    "sns.set_theme(style=\"whitegrid\")\n",
    "\n",
    "fig, ax = plt.subplots(1, 2, figsize=(12, 5))\n",
    "\n",
    "sns.countplot(data=tmed2_label_per_image, x='view_label', hue='view_label', ax=ax[0], palette='viridis', dodge=False, legend=False)\n",
    "ax[0].set_title('Distribution of View Labels')\n",
    "ax[0].set_xlabel('View Label')\n",
    "ax[0].set_ylabel('Frequency')\n",
    "\n",
    "sns.countplot(data=tmed2_label_per_image, x='diagnosis_label', hue='diagnosis_label', ax=ax[1], palette='magma', dodge=False, legend=False)\n",
    "ax[1].set_title('Distribution of Diagnosis Labels')\n",
    "ax[1].set_xlabel('Diagnosis Label')\n",
    "ax[1].set_ylabel('Frequency')\n",
    "\n",
    "for axis in ax:\n",
    "    for label in axis.get_xticklabels():\n",
    "        label.set_rotation(45)\n",
    "\n",
    "plt.tight_layout()\n",
    "plt.show()\n"
   ]
  },
  {
   "cell_type": "code",
   "execution_count": 10,
   "metadata": {},
   "outputs": [
    {
     "data": {
      "image/png": "[encoded data removed]",
      "text/plain": [
       "<Figure size 800x500 with 2 Axes>"
      ]
     },
     "metadata": {},
     "output_type": "display_data"
    }
   ],
   "source": [
    "pivot_table_data = pd.crosstab(tmed2_label_per_image['view_label'], tmed2_label_per_image['diagnosis_label'])\n",
    "\n",
    "plt.figure(figsize=(8, 5))\n",
    "sns.heatmap(pivot_table_data, annot=True, fmt=\"d\", cmap=\"YlGnBu\", linewidths=.5)\n",
    "plt.title('Heat Map of Diagnosis Labels per View Label')\n",
    "plt.xlabel('Diagnosis Label')\n",
    "plt.ylabel('View Label')\n",
    "plt.show()\n"
   ]
  },
  {
   "cell_type": "markdown",
   "metadata": {},
   "source": [
    "#### Image visualization from view_and_diagnosis_labeled_set"
   ]
  },
  {
   "cell_type": "code",
   "execution_count": 11,
   "metadata": {},
   "outputs": [],
   "source": [
    "labels_per_image_csv = pd.read_csv('SAMIL/data_info/labels_per_image.csv')"
   ]
  },
  {
   "cell_type": "code",
   "execution_count": 12,
   "metadata": {},
   "outputs": [],
   "source": [
    "def find_label(query_key):\n",
    "    assert len(labels_per_image_csv.index[labels_per_image_csv['query_key']==query_key].tolist())==1\n",
    "\n",
    "    row_id = labels_per_image_csv.index[labels_per_image_csv['query_key']==query_key].tolist()[0]\n",
    "    view_label = labels_per_image_csv.iloc[row_id].view_label\n",
    "    diagnosis_label = labels_per_image_csv.iloc[row_id].diagnosis_label\n",
    "    \n",
    "    return view_label, diagnosis_label\n",
    "\n",
    "def LoadImage(file_path):\n",
    "    im = Image.open(file_path)\n",
    "    im = np.asarray(im)/255\n",
    "    return im\n",
    "\n",
    "def ShowGrayscaleImage(file_path, title='', ax=None):\n",
    "    print(file_path)\n",
    "    im = LoadImage(file_path)\n",
    "    if ax is None:\n",
    "        plt.figure()\n",
    "    plt.axis('off')\n",
    "    \n",
    "    plt.imshow(im , cmap=plt.cm.gray, vmin=0, vmax=1) #im is of float, 0-1\n",
    "\n",
    "    plt.title(title)"
   ]
  },
  {
   "cell_type": "code",
   "execution_count": 13,
   "metadata": {},
   "outputs": [
    {
     "name": "stdout",
     "output_type": "stream",
     "text": [
      "number of images in the ImageList_view_and_diagnosis_labeledset: 17270\n"
     ]
    }
   ],
   "source": [
    "\n",
    "view_and_diagnosis_labeled_set_path = os.path.join(\"C:/Users/dipta/OneDrive/Documents/MCS/dlh/Project/SAMIL/view_and_diagnosis_labeled_set\", 'labeled')\n",
    "labeled_dir = os.listdir(view_and_diagnosis_labeled_set_path)\n",
    "print('number of images in the ImageList_view_and_diagnosis_labeledset: {}'.format(len(labeled_dir)))"
   ]
  },
  {
   "cell_type": "code",
   "execution_count": 16,
   "metadata": {},
   "outputs": [
    {
     "name": "stdout",
     "output_type": "stream",
     "text": [
      "Currently visualizing 3436s1_25.png from labeled set\n",
      "view: PLAX, diagnosis: moderate_AS\n",
      "C:/Users/dipta/OneDrive/Documents/MCS/dlh/Project/SAMIL/view_and_diagnosis_labeled_set\\labeled\\3436s1_25.png\n"
     ]
    },
    {
     "data": {
      "image/png": "[encoded data removed]",
      "text/plain": [
       "<Figure size 640x480 with 1 Axes>"
      ]
     },
     "metadata": {},
     "output_type": "display_data"
    }
   ],
   "source": [
    "im_to_visualize = random.choice(labeled_dir)\n",
    "view_label, diagnosis_label = find_label(im_to_visualize)\n",
    "\n",
    "print('Currently visualizing {} from labeled set'.format(im_to_visualize))\n",
    "print('view: {}, diagnosis: {}'.format(view_label, diagnosis_label))\n",
    "\n",
    "ShowGrayscaleImage(os.path.join(view_and_diagnosis_labeled_set_path, im_to_visualize))"
   ]
  },
  {
   "cell_type": "markdown",
   "metadata": {},
   "source": [
    "#### Model \n",
    "\n",
    "1. **Problem Formulation**: The task is to classify echocardiogram studies, each comprising multiple 2D ultrasound images, by severity levels of AS. The studies are represented as bags of images with each image being a 112x112 pixel grayscale frame. Diagnostic labels for these studies vary from no AS to significant AS.\n",
    "\n",
    "2. **General MIL Architecture**: The model architecture consists of three main components:\n",
    "   - **Instance Representation Layer**: Transforms each image into a feature representation using a stack of convolution layers and a multi-layer perceptron (MLP).\n",
    "   - **Pooling Layer**: Aggregates features across images using an attention-weighted average to form a bag-level representation. This layer uses trainable parameters to focus on relevant features.\n",
    "   - **Output Layer**: Maps the bag-level representation to a probabilistic classification of AS severity through a linear-softmax transformation.\n",
    "\n",
    "3. **Innovations**:\n",
    "   - **Supervised Attention Module**: Enhances the MIL pooling layer to focus more effectively on clinically relevant views within an echocardiogram.\n",
    "   - **Study-Level Contrastive Learning**: Improves representation of entire studies, not just individual images, by contrasting the learned features of different classes to fine-tune the model's sensitivity to variations in AS severity.\n",
    "\n",
    "4. **Training and Prediction**: The model is trained using a cross-entropy loss function to minimize the error between observed and predicted AS severity. This involves adjusting the parameters of both the representation and pooling layers, as well as the output layer, to optimize the model's predictive accuracy.\n",
    "\n",
    "This comprehensive approach leverages deep learning and multiple instance learning to enhance the diagnostic capabilities of echocardiograms for aortic stenosis, focusing on both individual image details and holistic study characteristics.\n",
    "\n",
    "According to authors,\n",
    "\n",
    "In the development of the Supervised Attention Multiple Instance Learning (SAMIL) network for diagnosing aortic stenosis (AS), the process is divided into two crucial stages to maximize diagnostic accuracy. \n",
    "\n",
    "**Stage 1** involves self-supervised pretraining using the TMED-2 dataset. This initial phase employs a bag-level pretraining strategy that leverages both labeled and a substantial volume of unlabeled data, encompassing over 350,000 images. This broad dataset enables the model to learn a comprehensive representation of study-level features without the need for direct supervision. Once pretraining is complete, the projection head ψq is removed, and the remaining parameters (σq and fq) are preserved. These are used to warm-start the subsequent supervised phase, ensuring that the model transitions smoothly from a broadly trained base into a more focused training regime.\n",
    "\n",
    "**Stage 2** involves fine-tuning the pretrained components (f and σ) along with the output layer g, utilizing the complete and detailed studies from TMED-2’s labeled training set. The goal in this stage is to refine the model's ability to specifically diagnose AS by focusing the training on the relevant clinical features across all available images, irrespective of their initial view label. This approach aims to minimize the overall loss, thereby enhancing the model's diagnostic precision and reliability in clinical settings. This structured training strategy ensures the model is both robust and sensitive to the nuances of varied echocardiographic data, positioning it as a potent tool in the detection of heart disease."
   ]
  },
  {
   "cell_type": "markdown",
   "metadata": {},
   "source": [
    "> From this point forward, we will begin presenting all the models and training code. Please note that we are currently in the process of converting and reorganizing the original code into an IPython Notebook format. The initial code was provided in large blocks of Python files, which we are now restructuring. Additionally, we have encountered some challenges in making the training dataset portion of the code operational. This issue stems from the code referencing a class called `EchoDataSet`, which was originally designed to create bags from TIFF files stored in individual folders. We are actively working to modify this code to accommodate PNG files from the provided dataset. Consequently, the code beyond this point may not yet be functional, as these adjustments are still underway."
   ]
  },
  {
   "cell_type": "code",
   "execution_count": 5,
   "metadata": {},
   "outputs": [],
   "source": [
    "# imports\n",
    "\n",
    "import argparse\n",
    "import logging\n",
    "import math\n",
    "import os\n",
    "import random\n",
    "import shutil\n",
    "import time\n",
    "import json\n",
    "from tqdm import tqdm\n",
    "\n",
    "import pandas as pd\n",
    "import numpy as np\n",
    "import torch\n",
    "import torch.nn.functional as F\n",
    "import torch.optim as optim\n",
    "from torch.optim.lr_scheduler import LambdaLR\n",
    "from torch.utils.data import DataLoader\n",
    "from torchvision import transforms\n",
    "\n",
    "from torch.utils.tensorboard import SummaryWriter\n",
    "\n",
    "from SAMIL.src.SAMIL.libml.Echo_data import EchoDataset\n",
    "\n",
    "from SAMIL.src.SAMIL.libml.utils import save_pickle\n",
    "from SAMIL.src.SAMIL.libml.utils import train_one_epoch, eval_model\n",
    "from SAMIL.src.SAMIL.libml.utils import EarlyStopping\n",
    "\n",
    "from SAMIL.src.SAMIL.libml.models.ema import ModelEMA\n",
    "from SAMIL.src.SAMIL.libml.randaugment import RandAugmentMC\n"
   ]
  },
  {
   "cell_type": "code",
   "execution_count": 6,
   "metadata": {
    "tags": [
     "config"
    ]
   },
   "outputs": [
    {
     "name": "stdout",
     "output_type": "stream",
     "text": [
      "namespace(dataset_name='echo', data_seed=0, development_size='DEV479', training_seed=0, sampling_strategy='first_frame', train_epoch=1, start_epoch=0, eval_every_Xepoch=1, Pretrained='Whole', resume='last_checkpoint.pth.tar', resume_checkpoint_fullpath='', train_dir='SAMIL/experiments/SAMIL/Pretrained-Whole/data_seed0/training_seed0/DEV479/', data_info_dir='SAMIL/data_info', data_dir='C:/Users/dipta/OneDrive/Documents/MCS/dlh/Project/SAMIL/view_and_diagnosis_labeled_set', checkpoint_dir='SAMIL/model_checkpoints', train_PatientStudy_list_path='SAMIL/data_info/DataPartition/seed0/DEV479/FullyLabeledSet_studies/train_studies.csv', val_PatientStudy_list_path='SAMIL/data_info/DataPartition/seed0/DEV479/FullyLabeledSet_studies/val_studies.csv', test_PatientStudy_list_path='SAMIL/data_info/DataPartition/seed0/DEV479/FullyLabeledSet_studies/test_studies.csv', lr=5e-05, lr_warmup_epochs=0, lr_schedule_type='CosineLR', lr_cycle_epochs=3, wd=0.0001, optimizer_type='SGD', nesterov='True', ema_decay=0.999, num_classes=3, batch_size=1, num_workers=8, patience=200, early_stopping_warmup=200, T=0.03, lambda_ViewRegularization=5, view_checkpoint_path='', ViewRegularization_warmup_pos=0.4, ViewRegularization_warmup_schedule_type='Linear', use_class_weights='True', class_weights='0.25,0.25,0.25', augmentation='RandAug', use_data_normalization='False', device=\"device(type='cuda')\")\n"
     ]
    }
   ],
   "source": [
    "from types import SimpleNamespace\n",
    "\n",
    "arguments = {\n",
    "    \"dataset_name\": \"echo\",\n",
    "    \"data_seed\": 0,\n",
    "    \"development_size\": \"DEV479\",\n",
    "    \"training_seed\": 0,\n",
    "    \"sampling_strategy\": \"first_frame\",\n",
    "    \"train_epoch\": 1,\n",
    "    \"start_epoch\": 0,\n",
    "    \"eval_every_Xepoch\": 1,\n",
    "    \"Pretrained\": \"Whole\",\n",
    "    \"resume\": \"last_checkpoint.pth.tar\",\n",
    "    \"resume_checkpoint_fullpath\": \"\",\n",
    "    \"train_dir\": \"SAMIL/experiments/SAMIL/Pretrained-Whole/data_seed0/training_seed0/DEV479/\",\n",
    "    \"data_info_dir\": \"SAMIL/data_info\",\n",
    "    \"data_dir\": \"C:/Users/dipta/OneDrive/Documents/MCS/dlh/Project/SAMIL/view_and_diagnosis_labeled_set\",\n",
    "    \"checkpoint_dir\": \"SAMIL/model_checkpoints\",\n",
    "    \"train_PatientStudy_list_path\": \"SAMIL/data_info/DataPartition/seed0/DEV479/FullyLabeledSet_studies/train_studies.csv\",\n",
    "    \"val_PatientStudy_list_path\": \"SAMIL/data_info/DataPartition/seed0/DEV479/FullyLabeledSet_studies/val_studies.csv\",\n",
    "    \"test_PatientStudy_list_path\": \"SAMIL/data_info/DataPartition/seed0/DEV479/FullyLabeledSet_studies/test_studies.csv\",\n",
    "    \"lr\": 0.00005,\n",
    "    \"lr_warmup_epochs\": 0,\n",
    "    \"lr_schedule_type\": \"CosineLR\",\n",
    "    \"lr_cycle_epochs\": 3,\n",
    "    \"wd\": 0.0001,\n",
    "    \"optimizer_type\": \"SGD\",\n",
    "    \"nesterov\": \"True\",\n",
    "    \"ema_decay\": 0.999,\n",
    "    \"num_classes\": 3,\n",
    "    \"batch_size\": 1,\n",
    "    \"num_workers\": 8,\n",
    "    \"patience\": 200,\n",
    "    \"early_stopping_warmup\": 200,\n",
    "    \"T\": 0.03,\n",
    "    \"lambda_ViewRegularization\": 5,\n",
    "    \"view_checkpoint_path\": \"\",\n",
    "    \"ViewRegularization_warmup_pos\": 0.4,\n",
    "    \"ViewRegularization_warmup_schedule_type\": \"Linear\",\n",
    "    \"use_class_weights\": \"True\",\n",
    "    \"class_weights\": \"0.25,0.25,0.25\",\n",
    "    \"augmentation\": \"RandAug\",\n",
    "    \"use_data_normalization\": \"False\",\n",
    "    \"device\": \"device(type='cuda')\"\n",
    "}\n",
    "arguments = SimpleNamespace(**arguments)\n",
    "\n",
    "# Now you can access the dictionary items using dot notation\n",
    "print(arguments)\n",
    "\n"
   ]
  },
  {
   "cell_type": "code",
   "execution_count": 7,
   "metadata": {
    "tags": [
     "cuda"
    ]
   },
   "outputs": [
    {
     "name": "stdout",
     "output_type": "stream",
     "text": [
      "cuda available\n"
     ]
    },
    {
     "data": {
      "text/plain": [
       "device(type='cuda')"
      ]
     },
     "execution_count": 7,
     "metadata": {},
     "output_type": "execute_result"
    }
   ],
   "source": [
    "# check if cuda is available\n",
    "cuda = torch.cuda.is_available()\n",
    "\n",
    "if cuda:\n",
    "    print('cuda available')\n",
    "    device = torch.device('cuda')\n",
    "    arguments.device = device\n",
    "    torch.backends.cudnn.benchmark = True\n",
    "else:\n",
    "    raise ValueError('Not Using GPU?')\n",
    "\n",
    "arguments.device"
   ]
  },
  {
   "cell_type": "code",
   "execution_count": 8,
   "metadata": {
    "tags": [
     "logger"
    ]
   },
   "outputs": [],
   "source": [
    "# logger config\n",
    "logger = logging.getLogger(__name__)\n",
    "logging.basicConfig(\n",
    "        format=\"%(asctime)s - %(levelname)s - %(name)s -   %(message)s\",\n",
    "        datefmt=\"%m/%d/%Y %H:%M:%S\",\n",
    "        level=logging.INFO)"
   ]
  },
  {
   "cell_type": "code",
   "execution_count": 9,
   "metadata": {
    "tags": [
     "seed"
    ]
   },
   "outputs": [
    {
     "name": "stdout",
     "output_type": "stream",
     "text": [
      "setting training seed0\n"
     ]
    }
   ],
   "source": [
    "#setting seed\n",
    "\n",
    "def set_seed(seed):\n",
    "    random.seed(seed)\n",
    "    np.random.seed(seed)\n",
    "    torch.manual_seed(seed)\n",
    "    \n",
    "if arguments.training_seed is not None:\n",
    "    print('setting training seed{}'.format(arguments.training_seed), flush=True)\n",
    "    set_seed(arguments.training_seed)"
   ]
  },
  {
   "cell_type": "code",
   "execution_count": 10,
   "metadata": {
    "tags": [
     "pretrained"
    ]
   },
   "outputs": [],
   "source": [
    "# Setting pretrained type\n",
    "\n",
    "if arguments.Pretrained == 'Whole':\n",
    "    if arguments.data_seed==0:\n",
    "          arguments.MIL_checkpoint_path = os.path.join(arguments.checkpoint_dir,'MOCO_Pretraining_StudyLevel', 'seed0_checkpoint.pt')\n",
    "    elif arguments.data_seed==1:\n",
    "          arguments.MIL_checkpoint_path = os.path.join(arguments.checkpoint_dir,'MOCO_Pretraining_StudyLevel', 'seed1_checkpoint.pt')\n",
    "    elif arguments.data_seed==2:\n",
    "          arguments.MIL_checkpoint_path = os.path.join(arguments.checkpoint_dir,'MOCO_Pretraining_StudyLevel', 'seed2_checkpoint.pt')\n",
    "    else:\n",
    "         raise NameError('NOT VALID PRETRAINED MODEL')\n",
    "    \n",
    "elif arguments.Pretrained == 'FeatureExtractor1':\n",
    "     if arguments.data_seed==0:\n",
    "          arguments.MIL_checkpoint_path=os.path.join(arguments.checkpoint_dir, 'MOCO_Pretraining_ImageLevel', 'seed0_checkpoint.pt')\n",
    "     elif arguments.data_seed==1:\n",
    "          arguments.MIL_checkpoint_path=os.path.join(arguments.checkpoint_dir, 'MOCO_Pretraining_ImageLevel', 'seed1_checkpoint.pt')\n",
    "     elif arguments.data_seed==2:\n",
    "          arguments.MIL_checkpoint_path=os.path.join(arguments.checkpoint_dir, 'MOCO_Pretraining_ImageLevel', 'seed2_checkpoint.pt')\n",
    "     else:\n",
    "          raise NameError('NOT VALID PRETRAINED MODEL')\n",
    "     \n",
    "elif arguments.Pretrained == 'NoPretrain':\n",
    "     arguments.MIL_checkpoint_path=''\n",
    "else:\n",
    "     raise NameError('invalid pretrain option')\n"
   ]
  },
  {
   "cell_type": "code",
   "execution_count": 11,
   "metadata": {
    "tags": [
     "class weights"
    ]
   },
   "outputs": [
    {
     "name": "stdout",
     "output_type": "stream",
     "text": [
      "Pre calculated class weights has been set\n"
     ]
    }
   ],
   "source": [
    "if arguments.use_class_weights == 'True':\n",
    "        print('Pre calculated class weights has been set')\n",
    "        \n",
    "        #indeed, every split should have the same class weight for diagnosis by our dataset construction\n",
    "        if arguments.data_seed == 0 and arguments.development_size == 'DEV479':\n",
    "            arguments.class_weights = '0.463,0.342,0.195'\n",
    "        elif arguments.data_seed == 1 and arguments.development_size == 'DEV479':\n",
    "            arguments.class_weights = '0.463,0.342,0.195'\n",
    "        elif arguments.data_seed == 2 and arguments.development_size == 'DEV479':\n",
    "            arguments.class_weights = '0.463,0.342,0.195'\n",
    "        else:\n",
    "            raise NameError('not valid class weights setting')\n",
    "    \n",
    "else:\n",
    "    arguments.class_weights = '1.0,1.0,1.0'\n",
    "    print('?????????Not using pre-calculated class weights?????????')"
   ]
  },
  {
   "cell_type": "code",
   "execution_count": 12,
   "metadata": {},
   "outputs": [],
   "source": [
    "experiment_name = \"ViewRegularization_warmup-{}_Optimizer-{}_LrSchedule-{}_LrCycleEpochs-{}_lr-{}_wd-{}_T-{}_lambdaViewRegularization-{}\".format(arguments.ViewRegularization_warmup_schedule_type, arguments.optimizer_type, arguments.lr_schedule_type, arguments.lr_cycle_epochs, arguments.lr, arguments.wd, arguments.T, arguments.lambda_ViewRegularization)"
   ]
  },
  {
   "cell_type": "code",
   "execution_count": 13,
   "metadata": {
    "tags": [
     "experiment path"
    ]
   },
   "outputs": [
    {
     "name": "stdout",
     "output_type": "stream",
     "text": [
      "experiment_dir :  SAMIL/experiments/SAMIL/Pretrained-Whole/data_seed0/training_seed0/DEV479/ViewRegularization_warmup-Linear_Optimizer-SGD_LrSchedule-CosineLR_LrCycleEpochs-3_lr-5e-05_wd-0.0001_T-0.03_lambdaViewRegularization-5\n"
     ]
    }
   ],
   "source": [
    "arguments.experiment_dir = os.path.join(arguments.train_dir, experiment_name)\n",
    "print('experiment_dir : ', arguments.experiment_dir) "
   ]
  },
  {
   "cell_type": "code",
   "execution_count": 15,
   "metadata": {},
   "outputs": [],
   "source": [
    "if arguments.resume != 'None':\n",
    "    arguments.resume_checkpoint_fullpath = os.path.join(arguments.experiment_dir, arguments.resume)\n",
    "else:\n",
    "    arguments.resume_checkpoint_fullpath = None"
   ]
  },
  {
   "cell_type": "code",
   "execution_count": 16,
   "metadata": {},
   "outputs": [],
   "source": [
    "if arguments.resume != 'None':\n",
    "    arguments.resume_checkpoint_fullpath = os.path.join(arguments.experiment_dir, arguments.resume)\n",
    "else:\n",
    "    arguments.resume_checkpoint_fullpath = None"
   ]
  },
  {
   "cell_type": "code",
   "execution_count": 17,
   "metadata": {
    "tags": [
     "experiment dir create"
    ]
   },
   "outputs": [],
   "source": [
    "os.makedirs(arguments.experiment_dir, exist_ok=True)\n",
    "arguments.writer = SummaryWriter(arguments.experiment_dir)"
   ]
  },
  {
   "cell_type": "code",
   "execution_count": 18,
   "metadata": {},
   "outputs": [],
   "source": [
    "# util methods \n",
    "def str2bool(s):\n",
    "    if s == 'True':\n",
    "        return True\n",
    "    elif s == 'False':\n",
    "        return False\n",
    "    else:\n",
    "        raise NameError('Bad string')\n",
    "    \n",
    "\n",
    "def save_checkpoint(state, checkpoint_dir, filename='last_checkpoint.pth.tar'):\n",
    "    '''last_checkpoint.pth.tar or xxx_model_best.pth.tar'''\n",
    "    \n",
    "    filepath = os.path.join(checkpoint_dir, filename)\n",
    "    torch.save(state, filepath)"
   ]
  },
  {
   "cell_type": "code",
   "execution_count": 19,
   "metadata": {
    "tags": [
     "cosine"
    ]
   },
   "outputs": [],
   "source": [
    "#warmup \n",
    "def get_cosine_schedule_with_warmup(optimizer,\n",
    "                                    lr_warmup_epochs,\n",
    "                                    lr_cycle_epochs, #total train epochs\n",
    "                                    num_cycles=7./16.,\n",
    "                                    last_epoch=-1):\n",
    "    def _lr_lambda(current_epoch):\n",
    "        if current_epoch < lr_warmup_epochs:\n",
    "            return float(current_epoch) / float(max(1, lr_warmup_epochs))\n",
    "#         no_progress = float(current_epoch - lr_warmup_epochs) / \\\n",
    "#             float(max(1, float(lr_cycle_epochs) - lr_warmup_epochs))\n",
    "\n",
    "        #see if using restart\n",
    "        ###############################################################\n",
    "        if current_epoch%lr_cycle_epochs==0: \n",
    "            current_cycle_epoch=lr_cycle_epochs\n",
    "        else:\n",
    "            current_cycle_epoch = current_epoch%lr_cycle_epochs\n",
    "        \n",
    "        no_progress = float(current_cycle_epoch - lr_warmup_epochs) / \\\n",
    "            float(max(1, float(lr_cycle_epochs) - lr_warmup_epochs))\n",
    "        #################################################################\n",
    "        \n",
    "        return max(0., math.cos(math.pi * num_cycles * no_progress))\n",
    "\n",
    "    return LambdaLR(optimizer, _lr_lambda, last_epoch)"
   ]
  },
  {
   "cell_type": "code",
   "execution_count": 20,
   "metadata": {
    "tags": [
     "fixed lr"
    ]
   },
   "outputs": [],
   "source": [
    "def get_fixed_lr(optimizer,\n",
    "                lr_warmup_epochs,\n",
    "                lr_cycle_epochs, #total train iterations\n",
    "                num_cycles=7./16.,\n",
    "                last_epoch=-1):\n",
    "    def _lr_lambda(current_epoch):\n",
    "        \n",
    "        return 1.0\n",
    "\n",
    "    return LambdaLR(optimizer, _lr_lambda, last_epoch)"
   ]
  },
  {
   "cell_type": "code",
   "execution_count": 21,
   "metadata": {},
   "outputs": [],
   "source": [
    "def create_view_model(args):\n",
    "    \n",
    "    import SAMIL.src.SAMIL.libml.models.view_classifier as view_models\n",
    "    \n",
    "    view_model = view_models.build_wideresnet(depth=28,\n",
    "                                        widen_factor=2,\n",
    "                                        dropout=0.0,\n",
    "                                        num_classes=3)\n",
    "    \n",
    "    logger.info(\"Total params for View Model: {:.2f}M\".format(\n",
    "        sum(p.numel() for p in view_model.parameters())/1e6))\n",
    "    \n",
    "    \n",
    "    #load the saved checkpoint\n",
    "    if args.data_seed==0:\n",
    "        args.view_checkpoint_path = os.path.join(args.checkpoint_dir, 'view_classifier', 'seed0_model_best.pth.tar')\n",
    "    elif args.data_seed==1:\n",
    "        args.view_checkpoint_path = os.path.join(args.checkpoint_dir, 'view_classifier', 'seed1_model_best.pth.tar')\n",
    "    elif args.data_seed==2:\n",
    "        args.view_checkpoint_path = os.path.join(args.checkpoint_dir, 'view_classifier', 'seed2_model_best.pth.tar')\n",
    "    else:\n",
    "        raise NameError('?')\n",
    "    \n",
    "        \n",
    "    view_checkpoint = torch.load(args.view_checkpoint_path)\n",
    "\n",
    "    view_model.load_state_dict(view_checkpoint['ema_state_dict'])\n",
    "    \n",
    "    view_model.eval()\n",
    "    \n",
    "    return view_model"
   ]
  },
  {
   "cell_type": "code",
   "execution_count": 22,
   "metadata": {},
   "outputs": [],
   "source": [
    "def create_model(args):\n",
    "    \n",
    "    from SAMIL.src.SAMIL.libml.models.model import SAMIL\n",
    "    model = SAMIL()\n",
    "\n",
    "    if args.MIL_checkpoint_path !='':\n",
    "        print('!!!!!!!!!!!!!!!!!!!!!initializing from pretrained checkpoint!!!!!!!!!!!!!!!!!!!!!')\n",
    "        pretrained_dict = torch.load(args.MIL_checkpoint_path)\n",
    "\n",
    "        #https://discuss.pytorch.org/t/dataparallel-changes-parameter-names-issue-with-load-state-dict/60211\n",
    "        #rename tensor in the pretrained dict\n",
    "        from collections import OrderedDict\n",
    "        new_state_dict = OrderedDict()\n",
    "        for k, v in pretrained_dict.items():\n",
    "#                         print(k)\n",
    "            if 'encoder_q' in k:\n",
    "#                             print('!extract: {}'.format(k))\n",
    "                name = '.'.join(k.split('.')[1:])\n",
    "#                             print('new_name: {}'.format(name))\n",
    "                new_state_dict[name] = v\n",
    "\n",
    "        model_dict = model.state_dict() \n",
    "\n",
    "        new_state_dict = {k: v for k, v in new_state_dict.items() if k in model_dict}\n",
    "        model_dict.update(new_state_dict)\n",
    "\n",
    "        # 3. load the new state dict\n",
    "        model.load_state_dict(model_dict)\n",
    "\n",
    "                    \n",
    "        \n",
    "    logger.info(\"Total params: {:.2f}M\".format(\n",
    "        sum(p.numel() for p in model.parameters() if p.requires_grad)/1e6))\n",
    "    \n",
    "    return model"
   ]
  },
  {
   "cell_type": "code",
   "execution_count": 23,
   "metadata": {},
   "outputs": [],
   "source": [
    "arguments.use_data_normalization = str2bool(str(arguments.use_data_normalization))\n",
    "    \n",
    "TMED2SummaryTable = pd.read_csv(os.path.join(arguments.data_info_dir, 'TMED2SummaryTable.csv'))\n",
    "    \n",
    "echo_mean = [0.059, 0.059, 0.059]\n",
    "echo_std = [0.138, 0.138, 0.138]"
   ]
  },
  {
   "cell_type": "code",
   "execution_count": 24,
   "metadata": {},
   "outputs": [
    {
     "data": {
      "text/html": [
       "<div>\n",
       "<style scoped>\n",
       "    .dataframe tbody tr th:only-of-type {\n",
       "        vertical-align: middle;\n",
       "    }\n",
       "\n",
       "    .dataframe tbody tr th {\n",
       "        vertical-align: top;\n",
       "    }\n",
       "\n",
       "    .dataframe thead th {\n",
       "        text-align: right;\n",
       "    }\n",
       "</style>\n",
       "<table border=\"1\" class=\"dataframe\">\n",
       "  <thead>\n",
       "    <tr style=\"text-align: right;\">\n",
       "      <th></th>\n",
       "      <th>patient_study</th>\n",
       "      <th>diagnosis_label</th>\n",
       "    </tr>\n",
       "  </thead>\n",
       "  <tbody>\n",
       "    <tr>\n",
       "      <th>0</th>\n",
       "      <td>2142s1</td>\n",
       "      <td>no_AS</td>\n",
       "    </tr>\n",
       "    <tr>\n",
       "      <th>1</th>\n",
       "      <td>2142s1</td>\n",
       "      <td>no_AS</td>\n",
       "    </tr>\n",
       "    <tr>\n",
       "      <th>2</th>\n",
       "      <td>2142s1</td>\n",
       "      <td>no_AS</td>\n",
       "    </tr>\n",
       "    <tr>\n",
       "      <th>3</th>\n",
       "      <td>2142s1</td>\n",
       "      <td>no_AS</td>\n",
       "    </tr>\n",
       "    <tr>\n",
       "      <th>4</th>\n",
       "      <td>2142s1</td>\n",
       "      <td>no_AS</td>\n",
       "    </tr>\n",
       "    <tr>\n",
       "      <th>...</th>\n",
       "      <td>...</td>\n",
       "      <td>...</td>\n",
       "    </tr>\n",
       "    <tr>\n",
       "      <th>443802</th>\n",
       "      <td>20s2</td>\n",
       "      <td>Not_Provided</td>\n",
       "    </tr>\n",
       "    <tr>\n",
       "      <th>443803</th>\n",
       "      <td>20s2</td>\n",
       "      <td>Not_Provided</td>\n",
       "    </tr>\n",
       "    <tr>\n",
       "      <th>443804</th>\n",
       "      <td>20s2</td>\n",
       "      <td>Not_Provided</td>\n",
       "    </tr>\n",
       "    <tr>\n",
       "      <th>443805</th>\n",
       "      <td>20s2</td>\n",
       "      <td>Not_Provided</td>\n",
       "    </tr>\n",
       "    <tr>\n",
       "      <th>443806</th>\n",
       "      <td>5743s1</td>\n",
       "      <td>severe_AS</td>\n",
       "    </tr>\n",
       "  </tbody>\n",
       "</table>\n",
       "<p>443807 rows × 2 columns</p>\n",
       "</div>"
      ],
      "text/plain": [
       "       patient_study diagnosis_label\n",
       "0             2142s1           no_AS\n",
       "1             2142s1           no_AS\n",
       "2             2142s1           no_AS\n",
       "3             2142s1           no_AS\n",
       "4             2142s1           no_AS\n",
       "...              ...             ...\n",
       "443802          20s2    Not_Provided\n",
       "443803          20s2    Not_Provided\n",
       "443804          20s2    Not_Provided\n",
       "443805          20s2    Not_Provided\n",
       "443806        5743s1       severe_AS\n",
       "\n",
       "[443807 rows x 2 columns]"
      ]
     },
     "execution_count": 24,
     "metadata": {},
     "output_type": "execute_result"
    }
   ],
   "source": [
    "TMED2SummaryTable"
   ]
  },
  {
   "cell_type": "code",
   "execution_count": 25,
   "metadata": {
    "tags": [
     "normalization"
    ]
   },
   "outputs": [],
   "source": [
    "# Data normalization\n",
    "\n",
    "if arguments.use_data_normalization:\n",
    "        transform_eval = transforms.Compose([\n",
    "            transforms.ToTensor(),\n",
    "            transforms.Normalize(mean=echo_mean, std=echo_std)\n",
    "        ])\n",
    "\n",
    "        transform_weak = transforms.Compose([\n",
    "                        transforms.RandomHorizontalFlip(),\n",
    "                        transforms.RandomCrop(size=112,\n",
    "                                            padding=int(112*0.125),\n",
    "                                            padding_mode='reflect'),\n",
    "                        transforms.ToTensor(),\n",
    "                        transforms.Normalize(mean=echo_mean, std=echo_std)\n",
    "                    ])\n",
    "        if arguments.augmentation == 'standard':\n",
    "            transform_labeledtrain = transforms.Compose([\n",
    "                    transforms.RandomHorizontalFlip(),\n",
    "                    transforms.RandomCrop(size=112,\n",
    "                                         padding=int(112*0.125),\n",
    "                                         padding_mode='reflect'),\n",
    "                    transforms.ToTensor(),\n",
    "                    transforms.Normalize(mean=echo_mean, std=echo_std)\n",
    "                ])\n",
    "        elif arguments.augmentation == 'RandAug':\n",
    "            transform_labeledtrain = transforms.Compose([\n",
    "                    transforms.RandomHorizontalFlip(),\n",
    "                    transforms.RandomCrop(size=112,\n",
    "                                         padding=int(112*0.125),\n",
    "                                         padding_mode='reflect'),\n",
    "                    RandAugmentMC(n=2, m=10),\n",
    "                    transforms.ToTensor(),\n",
    "                    transforms.Normalize(mean=echo_mean, std=echo_std)\n",
    "                ])\n",
    "        else:\n",
    "            raise NameError('Not implemented augmentation')\n",
    "else:\n",
    "     transform_eval = transforms.Compose([transforms.ToTensor(),])\n",
    "     \n",
    "     transform_weak = transforms.Compose([\n",
    "                    transforms.RandomHorizontalFlip(),\n",
    "                    transforms.RandomCrop(size=112,\n",
    "                                         padding=int(112*0.125),\n",
    "                                         padding_mode='reflect'),\n",
    "                    transforms.ToTensor(),\n",
    "#                     transforms.Normalize(mean=echo_mean, std=echo_std)\n",
    "                ])\n",
    "     if arguments.augmentation == 'standard':\n",
    "          transform_labeledtrain = transforms.Compose([\n",
    "                    transforms.RandomHorizontalFlip(),\n",
    "                    transforms.RandomCrop(size=112,\n",
    "                                         padding=int(112*0.125),\n",
    "                                         padding_mode='reflect'),\n",
    "                    transforms.ToTensor(),\n",
    "            #         transforms.Normalize(mean=echo_mean, std=echo_std)\n",
    "                ])\n",
    "     elif arguments.augmentation == 'RandAug':\n",
    "          transform_labeledtrain = transforms.Compose([\n",
    "                    transforms.RandomHorizontalFlip(),\n",
    "                    transforms.RandomCrop(size=112,\n",
    "                                         padding=int(112*0.125),\n",
    "                                         padding_mode='reflect'),\n",
    "                    RandAugmentMC(n=2, m=10),\n",
    "                    transforms.ToTensor(),\n",
    "#                     transforms.Normalize(mean=echo_mean, std=echo_std)\n",
    "                ])\n",
    "     else:\n",
    "            raise NameError('Not implemented augmentation')\n",
    "    \n"
   ]
  },
  {
   "cell_type": "markdown",
   "metadata": {},
   "source": [
    "##### Training validation and test data load and bag creation"
   ]
  },
  {
   "cell_type": "code",
   "execution_count": 26,
   "metadata": {},
   "outputs": [],
   "source": [
    "train_PatientStudy_list = pd.read_csv(arguments.train_PatientStudy_list_path)\n",
    "train_PatientStudy_list = train_PatientStudy_list['study'].values\n",
    "    \n",
    "val_PatientStudy_list = pd.read_csv(arguments.val_PatientStudy_list_path)\n",
    "val_PatientStudy_list = val_PatientStudy_list['study'].values\n",
    "\n",
    "test_PatientStudy_list = pd.read_csv(arguments.test_PatientStudy_list_path)\n",
    "test_PatientStudy_list = test_PatientStudy_list['study'].values"
   ]
  },
  {
   "cell_type": "code",
   "execution_count": 27,
   "metadata": {},
   "outputs": [
    {
     "data": {
      "text/plain": [
       "<module 'SAMIL.src.SAMIL.libml.Echo_data' from 'c:\\\\Users\\\\dipta\\\\OneDrive\\\\Documents\\\\MCS\\\\dlh\\\\Project\\\\final-version\\\\SAMIL\\\\src\\\\SAMIL\\\\libml\\\\Echo_data.py'>"
      ]
     },
     "execution_count": 27,
     "metadata": {},
     "output_type": "execute_result"
    }
   ],
   "source": [
    "\n",
    "import SAMIL.src.SAMIL.libml.Echo_data as EchoDataset\n",
    "import importlib\n",
    "importlib.reload(EchoDataset)"
   ]
  },
  {
   "cell_type": "markdown",
   "metadata": {},
   "source": [
    "<table><tr><td>Below code creates bag from all the greyscale echo images, with intel i7 6 core processor it takes on avarage 3 minutes, with modern 12 or 13th gen cpu should take around 1 minute</td></tr></table>"
   ]
  },
  {
   "cell_type": "code",
   "execution_count": 28,
   "metadata": {},
   "outputs": [],
   "source": [
    "train_dataset = EchoDataset.EchoDataset(train_PatientStudy_list, TMED2SummaryTable, arguments.data_dir, sampling_strategy=arguments.sampling_strategy, training_seed=arguments.training_seed, transform_fn=transform_labeledtrain)\n",
    "\n",
    "trainmemory_dataset = EchoDataset.EchoDataset(train_PatientStudy_list, TMED2SummaryTable, arguments.data_dir, sampling_strategy='first_frame', training_seed=arguments.training_seed, transform_fn=transform_eval)\n",
    "\n",
    "val_dataset = EchoDataset.EchoDataset(val_PatientStudy_list, TMED2SummaryTable, arguments.data_dir, sampling_strategy='first_frame', training_seed=arguments.training_seed, transform_fn=transform_eval)\n",
    "\n",
    "test_dataset = EchoDataset.EchoDataset(test_PatientStudy_list, TMED2SummaryTable, arguments.data_dir, sampling_strategy='first_frame', training_seed=arguments.training_seed, transform_fn=transform_eval)"
   ]
  },
  {
   "cell_type": "code",
   "execution_count": 29,
   "metadata": {},
   "outputs": [
    {
     "name": "stdout",
     "output_type": "stream",
     "text": [
      "Bags has been created successfully\n",
      "train: 360, trainmemory: 360, val: 119, test: 120\n"
     ]
    }
   ],
   "source": [
    "print('Bags has been created successfully')\n",
    "print(\"train: {}, trainmemory: {}, val: {}, test: {}\".format(len(train_dataset), len(trainmemory_dataset), len(val_dataset), len(test_dataset)))"
   ]
  },
  {
   "cell_type": "code",
   "execution_count": 30,
   "metadata": {},
   "outputs": [],
   "source": [
    "train_loader = DataLoader(train_dataset, batch_size=arguments.batch_size, shuffle=True, num_workers=arguments.num_workers)\n",
    "trainmemory_loader = DataLoader(trainmemory_dataset, batch_size=arguments.batch_size, shuffle=False, num_workers=arguments.num_workers)\n",
    "val_loader = DataLoader(val_dataset, batch_size=arguments.batch_size, shuffle=False, num_workers=arguments.num_workers)\n",
    "test_loader = DataLoader(test_dataset, batch_size=arguments.batch_size, shuffle=False, num_workers=arguments.num_workers)"
   ]
  },
  {
   "cell_type": "code",
   "execution_count": 31,
   "metadata": {},
   "outputs": [
    {
     "name": "stderr",
     "output_type": "stream",
     "text": [
      "04/29/2024 20:52:07 - INFO - SAMIL.src.SAMIL.libml.models.view_classifier -   Model: WideResNet 28x2\n",
      "04/29/2024 20:52:07 - INFO - __main__ -   Total params for View Model: 5.93M\n",
      "04/29/2024 20:52:07 - INFO - __main__ -   Total params: 2.31M\n"
     ]
    },
    {
     "name": "stdout",
     "output_type": "stream",
     "text": [
      "!!!!!!!!!!!!!!!!!!!!!initializing from pretrained checkpoint!!!!!!!!!!!!!!!!!!!!!\n"
     ]
    },
    {
     "data": {
      "text/plain": [
       "SAMIL(\n",
       "  (feature_extractor_part1): Sequential(\n",
       "    (0): Conv2d(3, 20, kernel_size=(5, 5), stride=(1, 1))\n",
       "    (1): ReLU()\n",
       "    (2): MaxPool2d(kernel_size=2, stride=2, padding=0, dilation=1, ceil_mode=False)\n",
       "    (3): Conv2d(20, 50, kernel_size=(5, 5), stride=(1, 1))\n",
       "    (4): ReLU()\n",
       "    (5): MaxPool2d(kernel_size=2, stride=2, padding=0, dilation=1, ceil_mode=False)\n",
       "    (6): Conv2d(50, 100, kernel_size=(5, 5), stride=(1, 1))\n",
       "    (7): ReLU()\n",
       "    (8): MaxPool2d(kernel_size=2, stride=2, padding=0, dilation=1, ceil_mode=False)\n",
       "    (9): Conv2d(100, 200, kernel_size=(3, 3), stride=(1, 1))\n",
       "    (10): ReLU()\n",
       "    (11): MaxPool2d(kernel_size=2, stride=2, padding=0, dilation=1, ceil_mode=False)\n",
       "  )\n",
       "  (feature_extractor_part2): Sequential(\n",
       "    (0): Linear(in_features=3200, out_features=500, bias=True)\n",
       "    (1): ReLU()\n",
       "  )\n",
       "  (feature_extractor_part3): Sequential(\n",
       "    (0): Linear(in_features=500, out_features=250, bias=True)\n",
       "    (1): ReLU()\n",
       "    (2): Linear(in_features=250, out_features=500, bias=True)\n",
       "    (3): ReLU()\n",
       "  )\n",
       "  (attention_V): Sequential(\n",
       "    (0): Linear(in_features=500, out_features=128, bias=True)\n",
       "    (1): Tanh()\n",
       "    (2): Linear(in_features=128, out_features=1, bias=True)\n",
       "  )\n",
       "  (attention_U): Sequential(\n",
       "    (0): Linear(in_features=500, out_features=128, bias=True)\n",
       "    (1): Tanh()\n",
       "    (2): Linear(in_features=128, out_features=1, bias=True)\n",
       "  )\n",
       "  (classifier): Sequential(\n",
       "    (0): Linear(in_features=500, out_features=3, bias=True)\n",
       "  )\n",
       ")"
      ]
     },
     "execution_count": 31,
     "metadata": {},
     "output_type": "execute_result"
    }
   ],
   "source": [
    "weights = arguments.class_weights\n",
    "weights = [float(i) for i in weights.split(',')]\n",
    "weights = torch.Tensor(weights)\n",
    "\n",
    "weights = weights.to(arguments.device)\n",
    "    \n",
    "view_model = create_view_model(arguments)\n",
    "view_model.to(arguments.device)\n",
    "        \n",
    "model = create_model(arguments)\n",
    "model.to(arguments.device)"
   ]
  },
  {
   "cell_type": "code",
   "execution_count": 32,
   "metadata": {},
   "outputs": [],
   "source": [
    "#optimizer_type choice\n",
    "no_decay = ['bias', 'bn']\n",
    "grouped_parameters = [\n",
    "        {'params': [p for n, p in model.named_parameters() if not any(\n",
    "            nd in n for nd in no_decay)], 'weight_decay': arguments.wd},\n",
    "        {'params': [p for n, p in model.named_parameters() if any(\n",
    "            nd in n for nd in no_decay)], 'weight_decay': 0.0}\n",
    "]"
   ]
  },
  {
   "cell_type": "code",
   "execution_count": 33,
   "metadata": {},
   "outputs": [],
   "source": [
    "if arguments.optimizer_type == 'SGD':\n",
    "    optimizer = optim.SGD(grouped_parameters, lr=arguments.lr,momentum=0.9, nesterov=arguments.nesterov)\n",
    "        \n",
    "elif arguments.optimizer_type == 'Adam':\n",
    "    optimizer = optim.Adam(grouped_parameters, lr=arguments.lr)\n",
    "\n",
    "elif arguments.optimizer_type == 'AdamW':\n",
    "    optimizer = optim.AdamW(grouped_parameters, lr=arguments.lr)\n",
    "        \n",
    "else:\n",
    "    raise NameError('Not supported optimizer setting')"
   ]
  },
  {
   "cell_type": "code",
   "execution_count": 34,
   "metadata": {},
   "outputs": [],
   "source": [
    "#lr_schedule_type choice\n",
    "if arguments.lr_schedule_type == 'CosineLR':\n",
    "    scheduler = get_cosine_schedule_with_warmup(optimizer, arguments.lr_warmup_epochs, arguments.lr_cycle_epochs)\n",
    "\n",
    "elif arguments.lr_schedule_type == 'FixedLR':\n",
    "    scheduler = get_fixed_lr(optimizer, arguments.lr_warmup_epochs, arguments.lr_cycle_epochs)\n",
    "    \n",
    "else:\n",
    "    raise NameError('Not supported lr scheduler setting')"
   ]
  },
  {
   "cell_type": "code",
   "execution_count": 35,
   "metadata": {},
   "outputs": [
    {
     "name": "stdout",
     "output_type": "stream",
     "text": [
      "self.param_keys: ['feature_extractor_part1.0.weight', 'feature_extractor_part1.0.bias', 'feature_extractor_part1.3.weight', 'feature_extractor_part1.3.bias', 'feature_extractor_part1.6.weight', 'feature_extractor_part1.6.bias', 'feature_extractor_part1.9.weight', 'feature_extractor_part1.9.bias', 'feature_extractor_part2.0.weight', 'feature_extractor_part2.0.bias', 'feature_extractor_part3.0.weight', 'feature_extractor_part3.0.bias', 'feature_extractor_part3.2.weight', 'feature_extractor_part3.2.bias', 'attention_V.0.weight', 'attention_V.0.bias', 'attention_V.2.weight', 'attention_V.2.bias', 'attention_U.0.weight', 'attention_U.0.bias', 'attention_U.2.weight', 'attention_U.2.bias', 'classifier.0.weight', 'classifier.0.bias']\n",
      "self.buffer_keys: []\n"
     ]
    }
   ],
   "source": [
    "#instantiate the ema_model object\n",
    "ema_model = ModelEMA(arguments, model, arguments.ema_decay)"
   ]
  },
  {
   "cell_type": "code",
   "execution_count": 36,
   "metadata": {},
   "outputs": [
    {
     "name": "stdout",
     "output_type": "stream",
     "text": [
      "!!!!Does not have checkpoint yet!!!!\n"
     ]
    }
   ],
   "source": [
    "arguments.start_epoch = 0\n",
    "    \n",
    "best_val_ema_Bacc = 0\n",
    "best_test_ema_Bacc_at_val = 0\n",
    "best_train_ema_Bacc_at_val = 0\n",
    "    \n",
    "best_val_raw_Bacc = 0\n",
    "best_test_raw_Bacc_at_val = 0\n",
    "best_train_raw_Bacc_at_val = 0\n",
    "    \n",
    "    \n",
    "current_count=0\n",
    "\n",
    "\n",
    "if os.path.isfile(arguments.resume_checkpoint_fullpath):\n",
    "      print('Resuming from checkpoint: {}'.format(arguments.resume_checkpoint_fullpath))\n",
    "\n",
    "      checkpoint = torch.load(arguments.resume_checkpoint_fullpath)\n",
    "      arguments.start_epoch = checkpoint['epoch']\n",
    "      model.load_state_dict(checkpoint['state_dict'])\n",
    "      ema_model.ema.load_state_dict(checkpoint['ema_state_dict'])\n",
    "      current_count = checkpoint['current_count']\n",
    "      optimizer.load_state_dict(checkpoint['optimizer'])\n",
    "      scheduler.load_state_dict(checkpoint['scheduler'])\n",
    "      \n",
    "      best_val_ema_Bacc = checkpoint['val_progression_view']['best_val_ema_Bacc']\n",
    "      best_test_ema_Bacc_at_val = checkpoint['val_progression_view']['best_test_ema_Bacc_at_val']\n",
    "      best_train_ema_Bacc_at_val = checkpoint['val_progression_view']['best_train_ema_Bacc_at_val']\n",
    "      best_val_raw_Bacc = checkpoint['val_progression_view']['best_val_raw_Bacc']\n",
    "      best_test_raw_Bacc_at_val = checkpoint['val_progression_view']['best_test_raw_Bacc_at_val']\n",
    "      best_train_raw_Bacc_at_val = checkpoint['val_progression_view']['best_train_raw_Bacc_at_val']\n",
    "else:\n",
    "      print('!!!!Does not have checkpoint yet!!!!')\n"
   ]
  },
  {
   "cell_type": "code",
   "execution_count": 37,
   "metadata": {},
   "outputs": [
    {
     "data": {
      "text/plain": [
       "<module 'SAMIL.src.SAMIL.libml.utils' from 'c:\\\\Users\\\\dipta\\\\OneDrive\\\\Documents\\\\MCS\\\\dlh\\\\Project\\\\final-version\\\\SAMIL\\\\src\\\\SAMIL\\\\libml\\\\utils\\\\__init__.py'>"
      ]
     },
     "execution_count": 37,
     "metadata": {},
     "output_type": "execute_result"
    }
   ],
   "source": [
    "import SAMIL.src.SAMIL.libml.utils as util\n",
    "import importlib\n",
    "importlib.reload(util)"
   ]
  },
  {
   "cell_type": "code",
   "execution_count": 38,
   "metadata": {},
   "outputs": [
    {
     "name": "stderr",
     "output_type": "stream",
     "text": [
      "04/29/2024 20:52:49 - INFO - __main__ -   ***** Running training *****\n",
      "04/29/2024 20:52:49 - INFO - __main__ -     Task = echo\n",
      "04/29/2024 20:52:49 - INFO - __main__ -     Num Epochs = 1\n",
      "04/29/2024 20:52:49 - INFO - __main__ -     Total optimization steps = 360\n",
      "  0%|          | 0/1 [00:00<?, ?it/s]"
     ]
    },
    {
     "name": "stderr",
     "output_type": "stream",
     "text": [
      "c:\\Users\\dipta\\OneDrive\\Documents\\MCS\\dlh\\Project\\final-version\\SAMIL\\src\\SAMIL\\libml\\utils\\misc.py:101: UserWarning: Implicit dimension choice for softmax has been deprecated. Change the call to include dim=X as an argument.\n",
      "  predicted_relative_relevance = F.softmax(predicted_relevance/args.T)\n",
      "  0%|          | 0/360 [06:04<?, ?it/s]\n",
      "100%|██████████| 119/119 [00:45<00:00,  2.59it/s]"
     ]
    },
    {
     "name": "stdout",
     "output_type": "stream",
     "text": [
      "Inside calculate_balanced_accuracy, 3 classes passed in\n",
      "class0 recall: 0.36\n",
      "class1 recall: 0.0\n",
      "class2 recall: 0.55\n",
      "Inside calculate_balanced_accuracy, 3 classes passed in\n",
      "class0 recall: 0.64\n",
      "class1 recall: 0.0\n",
      "class2 recall: 0.23333333333333334\n"
     ]
    },
    {
     "name": "stderr",
     "output_type": "stream",
     "text": [
      "\n",
      "100%|██████████| 120/120 [01:02<00:00,  1.93it/s]"
     ]
    },
    {
     "name": "stdout",
     "output_type": "stream",
     "text": [
      "Inside calculate_balanced_accuracy, 3 classes passed in\n",
      "class0 recall: 0.3076923076923077\n",
      "class1 recall: 0.0\n",
      "class2 recall: 0.65\n",
      "Inside calculate_balanced_accuracy, 3 classes passed in\n",
      "class0 recall: 0.6538461538461539\n",
      "class1 recall: 0.0\n",
      "class2 recall: 0.13333333333333333\n"
     ]
    },
    {
     "name": "stderr",
     "output_type": "stream",
     "text": [
      "\n",
      "100%|██████████| 360/360 [00:59<00:00,  6.08it/s]"
     ]
    },
    {
     "name": "stdout",
     "output_type": "stream",
     "text": [
      "Inside calculate_balanced_accuracy, 3 classes passed in\n",
      "class0 recall: 0.39473684210526316\n",
      "class1 recall: 0.0\n",
      "class2 recall: 0.5414364640883977\n",
      "Inside calculate_balanced_accuracy, 3 classes passed in\n",
      "class0 recall: 0.7894736842105263\n",
      "class1 recall: 0.0\n",
      "class2 recall: 0.19889502762430938\n"
     ]
    },
    {
     "name": "stderr",
     "output_type": "stream",
     "text": [
      "\n",
      "04/29/2024 21:02:29 - INFO - __main__ -   val progression view:\n",
      "04/29/2024 21:02:29 - INFO - __main__ -   At RAW Best val, validation/test/train 30.33 31.92 31.21\n",
      "04/29/2024 21:02:29 - INFO - __main__ -   At EMA Best val, validation/test/train 29.11 26.24 32.95\n",
      "100%|██████████| 1/1 [09:39<00:00, 579.82s/it]\n"
     ]
    }
   ],
   "source": [
    "logger.info(\"***** Running training *****\")\n",
    "logger.info(f\"  Task = {arguments.dataset_name}\")\n",
    "logger.info(f\"  Num Epochs = {arguments.train_epoch}\")\n",
    "logger.info(f\"  Total optimization steps = {arguments.train_epoch * len(train_dataset)}\")\n",
    "\n",
    "brief_summary = {}\n",
    "brief_summary['val_progression_view'] = {}\n",
    "    \n",
    "brief_summary['dataset_name'] = arguments.dataset_name\n",
    "brief_summary['algorithm'] = 'Echo_MIL'\n",
    "brief_summary['hyperparameters'] = {\n",
    "    'train_epoch': arguments.train_epoch,\n",
    "    'optimizer': arguments.optimizer_type,\n",
    "    'lr': arguments.lr,\n",
    "    'wd': arguments.wd,\n",
    "    'T':arguments.T,\n",
    "    'lambda_ViewRegularization':arguments.lambda_ViewRegularization\n",
    "}\n",
    "\n",
    "train_loss_dict = dict()\n",
    "train_loss_dict['Totalloss'] = []\n",
    "train_loss_dict['LabeledCEloss'] = []\n",
    "train_loss_dict['ViewRegularizationLoss'] = []\n",
    "\n",
    "early_stopping = EarlyStopping(patience=arguments.patience, initial_count=current_count)\n",
    "early_stopping_warmup = arguments.early_stopping_warmup\n",
    "\n",
    "for epoch in tqdm(range(arguments.start_epoch, arguments.train_epoch)):\n",
    "    val_predictions_save_dict = dict()\n",
    "    test_predictions_save_dict = dict()\n",
    "    train_predictions_save_dict = dict()\n",
    "    TotalLoss_list, LabeledCEloss_list, ViewRegularizationLoss_list, scaled_ViewRegularizationLoss_list = util.misc.train_one_epoch(arguments, weights, train_loader, model, ema_model, view_model, optimizer, scheduler, epoch)\n",
    "    train_loss_dict['Totalloss'].extend(TotalLoss_list)\n",
    "    train_loss_dict['LabeledCEloss'].extend(LabeledCEloss_list)\n",
    "    train_loss_dict['ViewRegularizationLoss'].extend(ViewRegularizationLoss_list)\n",
    "    \n",
    "    if epoch % arguments.eval_every_Xepoch == 0:\n",
    "        val_raw_Bacc, val_ema_Bacc, val_true_labels, val_raw_predictions, val_ema_predictions = eval_model(arguments, val_loader, model, ema_model.ema, epoch)\n",
    "        val_predictions_save_dict['raw_Bacc'] = val_raw_Bacc\n",
    "        val_predictions_save_dict['ema_Bacc'] = val_ema_Bacc\n",
    "        val_predictions_save_dict['true_labels'] = val_true_labels\n",
    "        val_predictions_save_dict['raw_predictions'] = val_raw_predictions\n",
    "        val_predictions_save_dict['ema_predictions'] = val_ema_predictions\n",
    "        \n",
    "        test_raw_Bacc, test_ema_Bacc, test_true_labels, test_raw_predictions, test_ema_predictions = eval_model(arguments, test_loader, model, ema_model.ema, epoch)\n",
    "        \n",
    "        test_predictions_save_dict['raw_Bacc'] = test_raw_Bacc\n",
    "        test_predictions_save_dict['ema_Bacc'] = test_ema_Bacc\n",
    "        test_predictions_save_dict['true_labels'] = test_true_labels\n",
    "        test_predictions_save_dict['raw_predictions'] = test_raw_predictions\n",
    "        test_predictions_save_dict['ema_predictions'] = test_ema_predictions\n",
    "        \n",
    "        train_raw_Bacc, train_ema_Bacc, train_true_labels, train_raw_predictions, train_ema_predictions = eval_model(arguments, trainmemory_loader, model, ema_model.ema, epoch)\n",
    "            \n",
    "        train_predictions_save_dict['raw_Bacc'] = train_raw_Bacc\n",
    "        train_predictions_save_dict['ema_Bacc'] = train_ema_Bacc\n",
    "        train_predictions_save_dict['true_labels'] = train_true_labels\n",
    "        train_predictions_save_dict['raw_predictions'] = train_raw_predictions\n",
    "        train_predictions_save_dict['ema_predictions'] = train_ema_predictions\n",
    "        \n",
    "        if val_raw_Bacc > best_val_raw_Bacc:\n",
    "            \n",
    "            best_val_raw_Bacc = val_raw_Bacc\n",
    "            best_test_raw_Bacc_at_val = test_raw_Bacc\n",
    "            best_train_raw_Bacc_at_val = train_raw_Bacc\n",
    "\n",
    "            save_pickle(os.path.join(arguments.experiment_dir, 'val_progression_view', 'best_predictions_at_raw_val'), 'val_predictions.pkl', val_predictions_save_dict)\n",
    "\n",
    "            save_pickle(os.path.join(arguments.experiment_dir, 'val_progression_view', 'best_predictions_at_raw_val'), 'test_predictions.pkl', test_predictions_save_dict)\n",
    "            \n",
    "            save_pickle(os.path.join(arguments.experiment_dir, 'val_progression_view', 'best_predictions_at_raw_val'), 'train_predictions.pkl', train_predictions_save_dict)\n",
    "            \n",
    "            save_checkpoint(\n",
    "                {\n",
    "                'epoch': epoch+1,\n",
    "                'state_dict': model.state_dict(),\n",
    "                'ema_state_dict': ema_model.ema.state_dict(),\n",
    "                'current_count':current_count,\n",
    "                'optimizer': optimizer.state_dict(),\n",
    "                'scheduler': scheduler.state_dict(),\n",
    "                    \n",
    "                'val_progression_view': \n",
    "                    {'epoch': epoch+1,\n",
    "                    #regular val\n",
    "                    'best_val_ema_Bacc': best_val_ema_Bacc,\n",
    "                    'best_val_raw_Bacc': best_val_raw_Bacc,\n",
    "                    'best_test_ema_Bacc_at_val': best_test_ema_Bacc_at_val,\n",
    "                    'best_test_raw_Bacc_at_val': best_test_raw_Bacc_at_val,\n",
    "                    'best_train_ema_Bacc_at_val': best_train_ema_Bacc_at_val,\n",
    "                    'best_train_raw_Bacc_at_val': best_train_raw_Bacc_at_val,                     \n",
    "                     }, \n",
    "               \n",
    "                }, arguments.experiment_dir, filename='val_progression_view/best_predictions_at_raw_val/best_model.pth.tar')\n",
    "            \n",
    "            \n",
    "        if val_ema_Bacc > best_val_ema_Bacc:\n",
    "            \n",
    "            best_val_ema_Bacc = val_ema_Bacc\n",
    "            best_test_ema_Bacc_at_val = test_ema_Bacc\n",
    "            best_train_ema_Bacc_at_val = train_ema_Bacc\n",
    "\n",
    "            save_pickle(os.path.join(arguments.experiment_dir, 'val_progression_view', 'best_predictions_at_ema_val'), 'val_predictions.pkl', val_predictions_save_dict)\n",
    "\n",
    "            save_pickle(os.path.join(arguments.experiment_dir, 'val_progression_view', 'best_predictions_at_ema_val'), 'test_predictions.pkl', test_predictions_save_dict)\n",
    "                            \n",
    "            save_pickle(os.path.join(arguments.experiment_dir, 'val_progression_view', 'best_predictions_at_ema_val'), 'train_predictions.pkl', train_predictions_save_dict)\n",
    "            \n",
    "            save_checkpoint(\n",
    "                {\n",
    "                'epoch': epoch+1,\n",
    "                'state_dict': model.state_dict(),\n",
    "                'ema_state_dict': ema_model.ema.state_dict(),\n",
    "                'current_count':current_count,\n",
    "                'optimizer': optimizer.state_dict(),\n",
    "                'scheduler': scheduler.state_dict(),\n",
    "                    \n",
    "                'val_progression_view': \n",
    "                    {'epoch': epoch+1,\n",
    "                    #regular val\n",
    "                    'best_val_ema_Bacc': best_val_ema_Bacc,\n",
    "                    'best_val_raw_Bacc': best_val_raw_Bacc,\n",
    "                    'best_test_ema_Bacc_at_val': best_test_ema_Bacc_at_val,\n",
    "                    'best_test_raw_Bacc_at_val': best_test_raw_Bacc_at_val,\n",
    "                    'best_train_ema_Bacc_at_val': best_train_ema_Bacc_at_val,\n",
    "                    'best_train_raw_Bacc_at_val': best_train_raw_Bacc_at_val,                     \n",
    "                     }, \n",
    "               \n",
    "                }, arguments.experiment_dir, filename='val_progression_view/best_predictions_at_ema_val/best_model.pth.tar')\n",
    "            \n",
    "        #val progression view\n",
    "        logger.info('val progression view:')\n",
    "        #regular val\n",
    "        logger.info('At RAW Best val, validation/test/train %.2f %.2f %.2f' % (best_val_raw_Bacc, best_test_raw_Bacc_at_val, best_train_raw_Bacc_at_val))\n",
    "        logger.info('At EMA Best val, validation/test/train %.2f %.2f %.2f' % (best_val_ema_Bacc, best_test_ema_Bacc_at_val, best_train_ema_Bacc_at_val))\n",
    "        \n",
    "        \n",
    "        #only record the train loss, val_raw_Bacc, val_ema_Bacc, test_raw_Bacc, test_ema_Bacc every eval_every_Xepoch.\n",
    "        arguments.writer.add_scalar('train/1.train_raw_Bacc', train_raw_Bacc, epoch)\n",
    "        arguments.writer.add_scalar('train/1.train_ema_Bacc', train_ema_Bacc, epoch)\n",
    "        arguments.writer.add_scalar('train/1.Totalloss', np.mean(TotalLoss_list), epoch)\n",
    "        arguments.writer.add_scalar('train/1.LabeledCEloss', np.mean(LabeledCEloss_list), epoch)\n",
    "        arguments.writer.add_scalar('train/1.ViewRegularizationLoss', np.mean(ViewRegularizationLoss_list), epoch)\n",
    "        arguments.writer.add_scalar('train/1.scaled_ViewRegularizationLoss', np.mean(scaled_ViewRegularizationLoss_list), epoch)\n",
    "        \n",
    "        #regular val\n",
    "        arguments.writer.add_scalar('val/1.val_raw_Bacc', val_raw_Bacc, epoch)\n",
    "        arguments.writer.add_scalar('val/2.val_ema_Bacc', val_ema_Bacc, epoch)\n",
    "        \n",
    "        \n",
    "        arguments.writer.add_scalar('test/1.test_raw_Bacc', test_raw_Bacc, epoch)\n",
    "        arguments.writer.add_scalar('test/2.test_ema_Bacc', test_ema_Bacc, epoch)\n",
    "        \n",
    "        #val progression view\n",
    "        #regular val\n",
    "        brief_summary['val_progression_view']['best_val_ema_Bacc'] = best_val_ema_Bacc\n",
    "        brief_summary['val_progression_view']['best_val_raw_Bacc'] = best_val_raw_Bacc\n",
    "        brief_summary['val_progression_view']['best_test_ema_Bacc_at_val'] = best_test_ema_Bacc_at_val \n",
    "        brief_summary['val_progression_view']['best_test_raw_Bacc_at_val'] = best_test_raw_Bacc_at_val\n",
    "        brief_summary['val_progression_view']['best_train_ema_Bacc_at_val'] = best_train_ema_Bacc_at_val \n",
    "        brief_summary['val_progression_view']['best_train_raw_Bacc_at_val'] = best_train_raw_Bacc_at_val\n",
    "            \n",
    "            \n",
    "        with open(os.path.join(arguments.experiment_dir, \"brief_summary.json\"), \"w\") as f:\n",
    "            json.dump(brief_summary, f)\n",
    "            \n",
    "        #early stopping counting:\n",
    "        if epoch > early_stopping_warmup:\n",
    "            current_count = early_stopping(val_ema_Bacc)\n",
    "            \n",
    "        save_checkpoint(\n",
    "                {\n",
    "                'epoch': epoch+1,\n",
    "                'state_dict': model.state_dict(),\n",
    "                'ema_state_dict': ema_model.ema.state_dict(),\n",
    "                'current_count':current_count,\n",
    "                'optimizer': optimizer.state_dict(),\n",
    "                'scheduler': scheduler.state_dict(),\n",
    "                    \n",
    "                'val_progression_view': \n",
    "                    {'epoch': epoch+1,\n",
    "                    #regular val\n",
    "                    'best_val_ema_Bacc': best_val_ema_Bacc,\n",
    "                    'best_val_raw_Bacc': best_val_raw_Bacc,\n",
    "                    'best_test_ema_Bacc_at_val': best_test_ema_Bacc_at_val,\n",
    "                    'best_test_raw_Bacc_at_val': best_test_raw_Bacc_at_val,\n",
    "                    'best_train_ema_Bacc_at_val': best_train_ema_Bacc_at_val,\n",
    "                    'best_train_raw_Bacc_at_val': best_train_raw_Bacc_at_val,                     \n",
    "                     }, \n",
    "                    \n",
    "               \n",
    "                }, arguments.experiment_dir, filename='last_checkpoint.pth.tar')\n",
    "        \n",
    "        if early_stopping.early_stop:\n",
    "            break\n",
    "        \n",
    "#val progression view\n",
    "#regular val\n",
    "brief_summary['val_progression_view']['best_val_ema_Bacc'] = best_val_ema_Bacc\n",
    "brief_summary['val_progression_view']['best_val_raw_Bacc'] = best_val_raw_Bacc\n",
    "brief_summary['val_progression_view']['best_test_ema_Bacc_at_val'] = best_test_ema_Bacc_at_val \n",
    "brief_summary['val_progression_view']['best_test_raw_Bacc_at_val'] = best_test_raw_Bacc_at_val\n",
    "brief_summary['val_progression_view']['best_train_ema_Bacc_at_val'] = best_train_ema_Bacc_at_val \n",
    "brief_summary['val_progression_view']['best_train_raw_Bacc_at_val'] = best_train_raw_Bacc_at_val\n",
    "\n",
    "arguments.writer.close()\n",
    "        \n",
    "with open(os.path.join(arguments.experiment_dir, \"brief_summary.json\"), \"w\") as f:\n",
    "    json.dump(brief_summary, f)"
   ]
  },
  {
   "cell_type": "code",
   "execution_count": 33,
   "metadata": {},
   "outputs": [],
   "source": [
    "import json\n",
    "\n",
    "with open('SAMIL/experiments/ABMIL/brief_summary.json', 'r') as file:\n",
    "    abmil_results = json.load(file)\n",
    "    \n",
    "with open('SAMIL/experiments/DSMIL/brief_summary.json', 'r') as file:\n",
    "    dsmil_results = json.load(file)\n",
    "    \n",
    "with open('SAMIL/experiments/SetTransformer/brief_summary.json', 'r') as file:\n",
    "    transformer_results = json.load(file)\n",
    "\n",
    "with open('SAMIL/experiments/SAMIL/Pretrained-bag/brief_summary.json', 'r') as file:\n",
    "    samil_pb_results = json.load(file)\n",
    "    \n",
    "with open('SAMIL/experiments/SAMIL/Pretrained-image/brief_summary.json', 'r') as file:\n",
    "    samil_pi_results = json.load(file)\n",
    "    \n",
    "with open('SAMIL/experiments/SAMIL/NoPretrain/brief_summary.json', 'r') as file:\n",
    "    samil_np_results = json.load(file)\n",
    "\n",
    "\n",
    "models_data = {\n",
    "    \"abmil\": abmil_results,\n",
    "    \"dsmil\": dsmil_results,\n",
    "    \"set_transformer\": transformer_results,\n",
    "    \"samil_no_pretrain\": samil_np_results,\n",
    "    \"samil_bag_pretrain\": samil_pb_results,\n",
    "    \"samil_image_pretrain\": samil_pi_results\n",
    "}"
   ]
  },
  {
   "cell_type": "markdown",
   "metadata": {},
   "source": [
    "| Model                | Best Val EMA Bacc | Best Val Raw Bacc | Best Test EMA Bacc | Best Test Raw Bacc | Best Train EMA Bacc | Best Train Raw Bacc | Algorithm | Hyperparameters                                 |\n",
    "|----------------------|-------------------|-------------------|--------------------|--------------------|---------------------|---------------------|-----------|-------------------------------------------------|\n",
    "| abmil                | 70.53             | 69.41             | 57.39              | 60.94              | 99.31               | 98.55               | Echo_MIL  | Epoch: 2000, SGD, LR: 0.0008, WD: 0.0001        |\n",
    "| dsmil                | 73.07             | 69.86             | 56.55              | 56.79              | 93.37               | 95.39               | Echo_MIL  | Epoch: 2000, SGD, LR: 0.001, WD: 0.0001         |\n",
    "| set_transformer      | 67.91             | 66.71             | 59.41              | 54.71              | 100.00              | 100.00              | Echo_MIL  | Epoch: 2000, SGD, LR: 0.0008, WD: 0.0001        |\n",
    "| samil_no_pretrain    | 70.99             | 72.25             | 63.75              | 59.06              | 100.00              | 96.26               | Echo_MIL  | Epoch: 2000, SGD, LR: 0.0008, WD: 0.001, T: 0.1, λ: 20.0 |\n",
    "| samil_bag_pretrain   | 74.97             | 76.47             | 67.08              | 67.42              | 100.00              | 99.45               | Echo_MIL  | Epoch: 2000, SGD, LR: 0.0008, WD: 0.001, T: 0.1, λ: 20.0 |\n",
    "| samil_image_pretrain | 72.42             | 71.42             | 67.55              | 64.50              | 99.68               | 98.52               | Echo_MIL  | Epoch: 2000, SGD, LR: 0.0008, WD: 0.001, T: 0.1, λ: 20.0 |\n"
   ]
  },
  {
   "cell_type": "code",
   "execution_count": 58,
   "metadata": {},
   "outputs": [
    {
     "data": {
      "application/vnd.plotly.v1+json": {
       "config": {
        "plotlyServerURL": "https://plot.ly"
       },
       "data": [
        {
         "alignmentgroup": "True",
         "hovertemplate": "Model=%{y}<br>Best Values=%{x}<extra></extra>",
         "legendgroup": "abmil",
         "marker": {
          "color": "rgb(228,26,28)",
          "pattern": {
           "shape": ""
          }
         },
         "name": "abmil",
         "offsetgroup": "abmil",
         "orientation": "h",
         "showlegend": true,
         "textposition": "auto",
         "type": "bar",
         "x": [
          69.40522875816994
         ],
         "xaxis": "x",
         "y": [
          "abmil"
         ],
         "yaxis": "y"
        },
        {
         "alignmentgroup": "True",
         "hovertemplate": "Model=%{y}<br>Best Values=%{x}<extra></extra>",
         "legendgroup": "dsmil",
         "marker": {
          "color": "rgb(55,126,184)",
          "pattern": {
           "shape": ""
          }
         },
         "name": "dsmil",
         "offsetgroup": "dsmil",
         "orientation": "h",
         "showlegend": true,
         "textposition": "auto",
         "type": "bar",
         "x": [
          69.86274509803921
         ],
         "xaxis": "x",
         "y": [
          "dsmil"
         ],
         "yaxis": "y"
        },
        {
         "alignmentgroup": "True",
         "hovertemplate": "Model=%{y}<br>Best Values=%{x}<extra></extra>",
         "legendgroup": "set_transformer",
         "marker": {
          "color": "rgb(77,175,74)",
          "pattern": {
           "shape": ""
          }
         },
         "name": "set_transformer",
         "offsetgroup": "set_transformer",
         "orientation": "h",
         "showlegend": true,
         "textposition": "auto",
         "type": "bar",
         "x": [
          66.70588235294117
         ],
         "xaxis": "x",
         "y": [
          "set_transformer"
         ],
         "yaxis": "y"
        },
        {
         "alignmentgroup": "True",
         "hovertemplate": "Model=%{y}<br>Best Values=%{x}<extra></extra>",
         "legendgroup": "samil_no_pretrain",
         "marker": {
          "color": "rgb(152,78,163)",
          "pattern": {
           "shape": ""
          }
         },
         "name": "samil_no_pretrain",
         "offsetgroup": "samil_no_pretrain",
         "orientation": "h",
         "showlegend": true,
         "textposition": "auto",
         "type": "bar",
         "x": [
          72.25490196078432
         ],
         "xaxis": "x",
         "y": [
          "samil_no_pretrain"
         ],
         "yaxis": "y"
        },
        {
         "alignmentgroup": "True",
         "hovertemplate": "Model=%{y}<br>Best Values=%{x}<extra></extra>",
         "legendgroup": "samil_bag_pretrain",
         "marker": {
          "color": "rgb(255,127,0)",
          "pattern": {
           "shape": ""
          }
         },
         "name": "samil_bag_pretrain",
         "offsetgroup": "samil_bag_pretrain",
         "orientation": "h",
         "showlegend": true,
         "textposition": "auto",
         "type": "bar",
         "x": [
          76.47058823529412
         ],
         "xaxis": "x",
         "y": [
          "samil_bag_pretrain"
         ],
         "yaxis": "y"
        },
        {
         "alignmentgroup": "True",
         "hovertemplate": "Model=%{y}<br>Best Values=%{x}<extra></extra>",
         "legendgroup": "samil_image_pretrain",
         "marker": {
          "color": "rgb(255,255,51)",
          "pattern": {
           "shape": ""
          }
         },
         "name": "samil_image_pretrain",
         "offsetgroup": "samil_image_pretrain",
         "orientation": "h",
         "showlegend": true,
         "textposition": "auto",
         "type": "bar",
         "x": [
          71.42483660130719
         ],
         "xaxis": "x",
         "y": [
          "samil_image_pretrain"
         ],
         "yaxis": "y"
        }
       ],
       "layout": {
        "barmode": "relative",
        "legend": {
         "title": {
          "text": "Model"
         },
         "tracegroupgap": 0
        },
        "showlegend": false,
        "template": {
         "data": {
          "bar": [
           {
            "error_x": {
             "color": "#2a3f5f"
            },
            "error_y": {
             "color": "#2a3f5f"
            },
            "marker": {
             "line": {
              "color": "#E5ECF6",
              "width": 0.5
             },
             "pattern": {
              "fillmode": "overlay",
              "size": 10,
              "solidity": 0.2
             }
            },
            "type": "bar"
           }
          ],
          "barpolar": [
           {
            "marker": {
             "line": {
              "color": "#E5ECF6",
              "width": 0.5
             },
             "pattern": {
              "fillmode": "overlay",
              "size": 10,
              "solidity": 0.2
             }
            },
            "type": "barpolar"
           }
          ],
          "carpet": [
           {
            "aaxis": {
             "endlinecolor": "#2a3f5f",
             "gridcolor": "white",
             "linecolor": "white",
             "minorgridcolor": "white",
             "startlinecolor": "#2a3f5f"
            },
            "baxis": {
             "endlinecolor": "#2a3f5f",
             "gridcolor": "white",
             "linecolor": "white",
             "minorgridcolor": "white",
             "startlinecolor": "#2a3f5f"
            },
            "type": "carpet"
           }
          ],
          "choropleth": [
           {
            "colorbar": {
             "outlinewidth": 0,
             "ticks": ""
            },
            "type": "choropleth"
           }
          ],
          "contour": [
           {
            "colorbar": {
             "outlinewidth": 0,
             "ticks": ""
            },
            "colorscale": [
             [
              0,
              "#0d0887"
             ],
             [
              0.1111111111111111,
              "#46039f"
             ],
             [
              0.2222222222222222,
              "#7201a8"
             ],
             [
              0.3333333333333333,
              "#9c179e"
             ],
             [
              0.4444444444444444,
              "#bd3786"
             ],
             [
              0.5555555555555556,
              "#d8576b"
             ],
             [
              0.6666666666666666,
              "#ed7953"
             ],
             [
              0.7777777777777778,
              "#fb9f3a"
             ],
             [
              0.8888888888888888,
              "#fdca26"
             ],
             [
              1,
              "#f0f921"
             ]
            ],
            "type": "contour"
           }
          ],
          "contourcarpet": [
           {
            "colorbar": {
             "outlinewidth": 0,
             "ticks": ""
            },
            "type": "contourcarpet"
           }
          ],
          "heatmap": [
           {
            "colorbar": {
             "outlinewidth": 0,
             "ticks": ""
            },
            "colorscale": [
             [
              0,
              "#0d0887"
             ],
             [
              0.1111111111111111,
              "#46039f"
             ],
             [
              0.2222222222222222,
              "#7201a8"
             ],
             [
              0.3333333333333333,
              "#9c179e"
             ],
             [
              0.4444444444444444,
              "#bd3786"
             ],
             [
              0.5555555555555556,
              "#d8576b"
             ],
             [
              0.6666666666666666,
              "#ed7953"
             ],
             [
              0.7777777777777778,
              "#fb9f3a"
             ],
             [
              0.8888888888888888,
              "#fdca26"
             ],
             [
              1,
              "#f0f921"
             ]
            ],
            "type": "heatmap"
           }
          ],
          "heatmapgl": [
           {
            "colorbar": {
             "outlinewidth": 0,
             "ticks": ""
            },
            "colorscale": [
             [
              0,
              "#0d0887"
             ],
             [
              0.1111111111111111,
              "#46039f"
             ],
             [
              0.2222222222222222,
              "#7201a8"
             ],
             [
              0.3333333333333333,
              "#9c179e"
             ],
             [
              0.4444444444444444,
              "#bd3786"
             ],
             [
              0.5555555555555556,
              "#d8576b"
             ],
             [
              0.6666666666666666,
              "#ed7953"
             ],
             [
              0.7777777777777778,
              "#fb9f3a"
             ],
             [
              0.8888888888888888,
              "#fdca26"
             ],
             [
              1,
              "#f0f921"
             ]
            ],
            "type": "heatmapgl"
           }
          ],
          "histogram": [
           {
            "marker": {
             "pattern": {
              "fillmode": "overlay",
              "size": 10,
              "solidity": 0.2
             }
            },
            "type": "histogram"
           }
          ],
          "histogram2d": [
           {
            "colorbar": {
             "outlinewidth": 0,
             "ticks": ""
            },
            "colorscale": [
             [
              0,
              "#0d0887"
             ],
             [
              0.1111111111111111,
              "#46039f"
             ],
             [
              0.2222222222222222,
              "#7201a8"
             ],
             [
              0.3333333333333333,
              "#9c179e"
             ],
             [
              0.4444444444444444,
              "#bd3786"
             ],
             [
              0.5555555555555556,
              "#d8576b"
             ],
             [
              0.6666666666666666,
              "#ed7953"
             ],
             [
              0.7777777777777778,
              "#fb9f3a"
             ],
             [
              0.8888888888888888,
              "#fdca26"
             ],
             [
              1,
              "#f0f921"
             ]
            ],
            "type": "histogram2d"
           }
          ],
          "histogram2dcontour": [
           {
            "colorbar": {
             "outlinewidth": 0,
             "ticks": ""
            },
            "colorscale": [
             [
              0,
              "#0d0887"
             ],
             [
              0.1111111111111111,
              "#46039f"
             ],
             [
              0.2222222222222222,
              "#7201a8"
             ],
             [
              0.3333333333333333,
              "#9c179e"
             ],
             [
              0.4444444444444444,
              "#bd3786"
             ],
             [
              0.5555555555555556,
              "#d8576b"
             ],
             [
              0.6666666666666666,
              "#ed7953"
             ],
             [
              0.7777777777777778,
              "#fb9f3a"
             ],
             [
              0.8888888888888888,
              "#fdca26"
             ],
             [
              1,
              "#f0f921"
             ]
            ],
            "type": "histogram2dcontour"
           }
          ],
          "mesh3d": [
           {
            "colorbar": {
             "outlinewidth": 0,
             "ticks": ""
            },
            "type": "mesh3d"
           }
          ],
          "parcoords": [
           {
            "line": {
             "colorbar": {
              "outlinewidth": 0,
              "ticks": ""
             }
            },
            "type": "parcoords"
           }
          ],
          "pie": [
           {
            "automargin": true,
            "type": "pie"
           }
          ],
          "scatter": [
           {
            "fillpattern": {
             "fillmode": "overlay",
             "size": 10,
             "solidity": 0.2
            },
            "type": "scatter"
           }
          ],
          "scatter3d": [
           {
            "line": {
             "colorbar": {
              "outlinewidth": 0,
              "ticks": ""
             }
            },
            "marker": {
             "colorbar": {
              "outlinewidth": 0,
              "ticks": ""
             }
            },
            "type": "scatter3d"
           }
          ],
          "scattercarpet": [
           {
            "marker": {
             "colorbar": {
              "outlinewidth": 0,
              "ticks": ""
             }
            },
            "type": "scattercarpet"
           }
          ],
          "scattergeo": [
           {
            "marker": {
             "colorbar": {
              "outlinewidth": 0,
              "ticks": ""
             }
            },
            "type": "scattergeo"
           }
          ],
          "scattergl": [
           {
            "marker": {
             "colorbar": {
              "outlinewidth": 0,
              "ticks": ""
             }
            },
            "type": "scattergl"
           }
          ],
          "scattermapbox": [
           {
            "marker": {
             "colorbar": {
              "outlinewidth": 0,
              "ticks": ""
             }
            },
            "type": "scattermapbox"
           }
          ],
          "scatterpolar": [
           {
            "marker": {
             "colorbar": {
              "outlinewidth": 0,
              "ticks": ""
             }
            },
            "type": "scatterpolar"
           }
          ],
          "scatterpolargl": [
           {
            "marker": {
             "colorbar": {
              "outlinewidth": 0,
              "ticks": ""
             }
            },
            "type": "scatterpolargl"
           }
          ],
          "scatterternary": [
           {
            "marker": {
             "colorbar": {
              "outlinewidth": 0,
              "ticks": ""
             }
            },
            "type": "scatterternary"
           }
          ],
          "surface": [
           {
            "colorbar": {
             "outlinewidth": 0,
             "ticks": ""
            },
            "colorscale": [
             [
              0,
              "#0d0887"
             ],
             [
              0.1111111111111111,
              "#46039f"
             ],
             [
              0.2222222222222222,
              "#7201a8"
             ],
             [
              0.3333333333333333,
              "#9c179e"
             ],
             [
              0.4444444444444444,
              "#bd3786"
             ],
             [
              0.5555555555555556,
              "#d8576b"
             ],
             [
              0.6666666666666666,
              "#ed7953"
             ],
             [
              0.7777777777777778,
              "#fb9f3a"
             ],
             [
              0.8888888888888888,
              "#fdca26"
             ],
             [
              1,
              "#f0f921"
             ]
            ],
            "type": "surface"
           }
          ],
          "table": [
           {
            "cells": {
             "fill": {
              "color": "#EBF0F8"
             },
             "line": {
              "color": "white"
             }
            },
            "header": {
             "fill": {
              "color": "#C8D4E3"
             },
             "line": {
              "color": "white"
             }
            },
            "type": "table"
           }
          ]
         },
         "layout": {
          "annotationdefaults": {
           "arrowcolor": "#2a3f5f",
           "arrowhead": 0,
           "arrowwidth": 1
          },
          "autotypenumbers": "strict",
          "coloraxis": {
           "colorbar": {
            "outlinewidth": 0,
            "ticks": ""
           }
          },
          "colorscale": {
           "diverging": [
            [
             0,
             "#8e0152"
            ],
            [
             0.1,
             "#c51b7d"
            ],
            [
             0.2,
             "#de77ae"
            ],
            [
             0.3,
             "#f1b6da"
            ],
            [
             0.4,
             "#fde0ef"
            ],
            [
             0.5,
             "#f7f7f7"
            ],
            [
             0.6,
             "#e6f5d0"
            ],
            [
             0.7,
             "#b8e186"
            ],
            [
             0.8,
             "#7fbc41"
            ],
            [
             0.9,
             "#4d9221"
            ],
            [
             1,
             "#276419"
            ]
           ],
           "sequential": [
            [
             0,
             "#0d0887"
            ],
            [
             0.1111111111111111,
             "#46039f"
            ],
            [
             0.2222222222222222,
             "#7201a8"
            ],
            [
             0.3333333333333333,
             "#9c179e"
            ],
            [
             0.4444444444444444,
             "#bd3786"
            ],
            [
             0.5555555555555556,
             "#d8576b"
            ],
            [
             0.6666666666666666,
             "#ed7953"
            ],
            [
             0.7777777777777778,
             "#fb9f3a"
            ],
            [
             0.8888888888888888,
             "#fdca26"
            ],
            [
             1,
             "#f0f921"
            ]
           ],
           "sequentialminus": [
            [
             0,
             "#0d0887"
            ],
            [
             0.1111111111111111,
             "#46039f"
            ],
            [
             0.2222222222222222,
             "#7201a8"
            ],
            [
             0.3333333333333333,
             "#9c179e"
            ],
            [
             0.4444444444444444,
             "#bd3786"
            ],
            [
             0.5555555555555556,
             "#d8576b"
            ],
            [
             0.6666666666666666,
             "#ed7953"
            ],
            [
             0.7777777777777778,
             "#fb9f3a"
            ],
            [
             0.8888888888888888,
             "#fdca26"
            ],
            [
             1,
             "#f0f921"
            ]
           ]
          },
          "colorway": [
           "#636efa",
           "#EF553B",
           "#00cc96",
           "#ab63fa",
           "#FFA15A",
           "#19d3f3",
           "#FF6692",
           "#B6E880",
           "#FF97FF",
           "#FECB52"
          ],
          "font": {
           "color": "#2a3f5f"
          },
          "geo": {
           "bgcolor": "white",
           "lakecolor": "white",
           "landcolor": "#E5ECF6",
           "showlakes": true,
           "showland": true,
           "subunitcolor": "white"
          },
          "hoverlabel": {
           "align": "left"
          },
          "hovermode": "closest",
          "mapbox": {
           "style": "light"
          },
          "paper_bgcolor": "white",
          "plot_bgcolor": "#E5ECF6",
          "polar": {
           "angularaxis": {
            "gridcolor": "white",
            "linecolor": "white",
            "ticks": ""
           },
           "bgcolor": "#E5ECF6",
           "radialaxis": {
            "gridcolor": "white",
            "linecolor": "white",
            "ticks": ""
           }
          },
          "scene": {
           "xaxis": {
            "backgroundcolor": "#E5ECF6",
            "gridcolor": "white",
            "gridwidth": 2,
            "linecolor": "white",
            "showbackground": true,
            "ticks": "",
            "zerolinecolor": "white"
           },
           "yaxis": {
            "backgroundcolor": "#E5ECF6",
            "gridcolor": "white",
            "gridwidth": 2,
            "linecolor": "white",
            "showbackground": true,
            "ticks": "",
            "zerolinecolor": "white"
           },
           "zaxis": {
            "backgroundcolor": "#E5ECF6",
            "gridcolor": "white",
            "gridwidth": 2,
            "linecolor": "white",
            "showbackground": true,
            "ticks": "",
            "zerolinecolor": "white"
           }
          },
          "shapedefaults": {
           "line": {
            "color": "#2a3f5f"
           }
          },
          "ternary": {
           "aaxis": {
            "gridcolor": "white",
            "linecolor": "white",
            "ticks": ""
           },
           "baxis": {
            "gridcolor": "white",
            "linecolor": "white",
            "ticks": ""
           },
           "bgcolor": "#E5ECF6",
           "caxis": {
            "gridcolor": "white",
            "linecolor": "white",
            "ticks": ""
           }
          },
          "title": {
           "x": 0.05
          },
          "xaxis": {
           "automargin": true,
           "gridcolor": "white",
           "linecolor": "white",
           "ticks": "",
           "title": {
            "standoff": 15
           },
           "zerolinecolor": "white",
           "zerolinewidth": 2
          },
          "yaxis": {
           "automargin": true,
           "gridcolor": "white",
           "linecolor": "white",
           "ticks": "",
           "title": {
            "standoff": 15
           },
           "zerolinecolor": "white",
           "zerolinewidth": 2
          }
         }
        },
        "title": {
         "text": "Best Balanced Accuracy accross models"
        },
        "xaxis": {
         "anchor": "y",
         "domain": [
          0,
          1
         ],
         "title": {
          "text": "Best Values"
         }
        },
        "yaxis": {
         "anchor": "x",
         "categoryarray": [
          "samil_image_pretrain",
          "samil_bag_pretrain",
          "samil_no_pretrain",
          "set_transformer",
          "dsmil",
          "abmil"
         ],
         "categoryorder": "array",
         "domain": [
          0,
          1
         ],
         "title": {
          "text": "Model"
         }
        }
       }
      }
     },
     "metadata": {},
     "output_type": "display_data"
    },
    {
     "data": {
      "application/vnd.plotly.v1+json": {
       "config": {
        "plotlyServerURL": "https://plot.ly"
       },
       "data": [
        {
         "alignmentgroup": "True",
         "hovertemplate": "Model=%{y}<br>Best EMA Values=%{x}<extra></extra>",
         "legendgroup": "abmil",
         "marker": {
          "color": "rgb(228,26,28)",
          "pattern": {
           "shape": ""
          }
         },
         "name": "abmil",
         "offsetgroup": "abmil",
         "orientation": "h",
         "showlegend": true,
         "textposition": "auto",
         "type": "bar",
         "x": [
          70.52941176470587
         ],
         "xaxis": "x",
         "y": [
          "abmil"
         ],
         "yaxis": "y"
        },
        {
         "alignmentgroup": "True",
         "hovertemplate": "Model=%{y}<br>Best EMA Values=%{x}<extra></extra>",
         "legendgroup": "dsmil",
         "marker": {
          "color": "rgb(55,126,184)",
          "pattern": {
           "shape": ""
          }
         },
         "name": "dsmil",
         "offsetgroup": "dsmil",
         "orientation": "h",
         "showlegend": true,
         "textposition": "auto",
         "type": "bar",
         "x": [
          73.07189542483661
         ],
         "xaxis": "x",
         "y": [
          "dsmil"
         ],
         "yaxis": "y"
        },
        {
         "alignmentgroup": "True",
         "hovertemplate": "Model=%{y}<br>Best EMA Values=%{x}<extra></extra>",
         "legendgroup": "set_transformer",
         "marker": {
          "color": "rgb(77,175,74)",
          "pattern": {
           "shape": ""
          }
         },
         "name": "set_transformer",
         "offsetgroup": "set_transformer",
         "orientation": "h",
         "showlegend": true,
         "textposition": "auto",
         "type": "bar",
         "x": [
          67.90849673202614
         ],
         "xaxis": "x",
         "y": [
          "set_transformer"
         ],
         "yaxis": "y"
        },
        {
         "alignmentgroup": "True",
         "hovertemplate": "Model=%{y}<br>Best EMA Values=%{x}<extra></extra>",
         "legendgroup": "samil_no_pretrain",
         "marker": {
          "color": "rgb(152,78,163)",
          "pattern": {
           "shape": ""
          }
         },
         "name": "samil_no_pretrain",
         "offsetgroup": "samil_no_pretrain",
         "orientation": "h",
         "showlegend": true,
         "textposition": "auto",
         "type": "bar",
         "x": [
          70.99346405228758
         ],
         "xaxis": "x",
         "y": [
          "samil_no_pretrain"
         ],
         "yaxis": "y"
        },
        {
         "alignmentgroup": "True",
         "hovertemplate": "Model=%{y}<br>Best EMA Values=%{x}<extra></extra>",
         "legendgroup": "samil_bag_pretrain",
         "marker": {
          "color": "rgb(255,127,0)",
          "pattern": {
           "shape": ""
          }
         },
         "name": "samil_bag_pretrain",
         "offsetgroup": "samil_bag_pretrain",
         "orientation": "h",
         "showlegend": true,
         "textposition": "auto",
         "type": "bar",
         "x": [
          74.97385620915033
         ],
         "xaxis": "x",
         "y": [
          "samil_bag_pretrain"
         ],
         "yaxis": "y"
        },
        {
         "alignmentgroup": "True",
         "hovertemplate": "Model=%{y}<br>Best EMA Values=%{x}<extra></extra>",
         "legendgroup": "samil_image_pretrain",
         "marker": {
          "color": "rgb(255,255,51)",
          "pattern": {
           "shape": ""
          }
         },
         "name": "samil_image_pretrain",
         "offsetgroup": "samil_image_pretrain",
         "orientation": "h",
         "showlegend": true,
         "textposition": "auto",
         "type": "bar",
         "x": [
          72.41830065359477
         ],
         "xaxis": "x",
         "y": [
          "samil_image_pretrain"
         ],
         "yaxis": "y"
        }
       ],
       "layout": {
        "barmode": "relative",
        "legend": {
         "title": {
          "text": "Model"
         },
         "tracegroupgap": 0
        },
        "showlegend": false,
        "template": {
         "data": {
          "bar": [
           {
            "error_x": {
             "color": "#2a3f5f"
            },
            "error_y": {
             "color": "#2a3f5f"
            },
            "marker": {
             "line": {
              "color": "#E5ECF6",
              "width": 0.5
             },
             "pattern": {
              "fillmode": "overlay",
              "size": 10,
              "solidity": 0.2
             }
            },
            "type": "bar"
           }
          ],
          "barpolar": [
           {
            "marker": {
             "line": {
              "color": "#E5ECF6",
              "width": 0.5
             },
             "pattern": {
              "fillmode": "overlay",
              "size": 10,
              "solidity": 0.2
             }
            },
            "type": "barpolar"
           }
          ],
          "carpet": [
           {
            "aaxis": {
             "endlinecolor": "#2a3f5f",
             "gridcolor": "white",
             "linecolor": "white",
             "minorgridcolor": "white",
             "startlinecolor": "#2a3f5f"
            },
            "baxis": {
             "endlinecolor": "#2a3f5f",
             "gridcolor": "white",
             "linecolor": "white",
             "minorgridcolor": "white",
             "startlinecolor": "#2a3f5f"
            },
            "type": "carpet"
           }
          ],
          "choropleth": [
           {
            "colorbar": {
             "outlinewidth": 0,
             "ticks": ""
            },
            "type": "choropleth"
           }
          ],
          "contour": [
           {
            "colorbar": {
             "outlinewidth": 0,
             "ticks": ""
            },
            "colorscale": [
             [
              0,
              "#0d0887"
             ],
             [
              0.1111111111111111,
              "#46039f"
             ],
             [
              0.2222222222222222,
              "#7201a8"
             ],
             [
              0.3333333333333333,
              "#9c179e"
             ],
             [
              0.4444444444444444,
              "#bd3786"
             ],
             [
              0.5555555555555556,
              "#d8576b"
             ],
             [
              0.6666666666666666,
              "#ed7953"
             ],
             [
              0.7777777777777778,
              "#fb9f3a"
             ],
             [
              0.8888888888888888,
              "#fdca26"
             ],
             [
              1,
              "#f0f921"
             ]
            ],
            "type": "contour"
           }
          ],
          "contourcarpet": [
           {
            "colorbar": {
             "outlinewidth": 0,
             "ticks": ""
            },
            "type": "contourcarpet"
           }
          ],
          "heatmap": [
           {
            "colorbar": {
             "outlinewidth": 0,
             "ticks": ""
            },
            "colorscale": [
             [
              0,
              "#0d0887"
             ],
             [
              0.1111111111111111,
              "#46039f"
             ],
             [
              0.2222222222222222,
              "#7201a8"
             ],
             [
              0.3333333333333333,
              "#9c179e"
             ],
             [
              0.4444444444444444,
              "#bd3786"
             ],
             [
              0.5555555555555556,
              "#d8576b"
             ],
             [
              0.6666666666666666,
              "#ed7953"
             ],
             [
              0.7777777777777778,
              "#fb9f3a"
             ],
             [
              0.8888888888888888,
              "#fdca26"
             ],
             [
              1,
              "#f0f921"
             ]
            ],
            "type": "heatmap"
           }
          ],
          "heatmapgl": [
           {
            "colorbar": {
             "outlinewidth": 0,
             "ticks": ""
            },
            "colorscale": [
             [
              0,
              "#0d0887"
             ],
             [
              0.1111111111111111,
              "#46039f"
             ],
             [
              0.2222222222222222,
              "#7201a8"
             ],
             [
              0.3333333333333333,
              "#9c179e"
             ],
             [
              0.4444444444444444,
              "#bd3786"
             ],
             [
              0.5555555555555556,
              "#d8576b"
             ],
             [
              0.6666666666666666,
              "#ed7953"
             ],
             [
              0.7777777777777778,
              "#fb9f3a"
             ],
             [
              0.8888888888888888,
              "#fdca26"
             ],
             [
              1,
              "#f0f921"
             ]
            ],
            "type": "heatmapgl"
           }
          ],
          "histogram": [
           {
            "marker": {
             "pattern": {
              "fillmode": "overlay",
              "size": 10,
              "solidity": 0.2
             }
            },
            "type": "histogram"
           }
          ],
          "histogram2d": [
           {
            "colorbar": {
             "outlinewidth": 0,
             "ticks": ""
            },
            "colorscale": [
             [
              0,
              "#0d0887"
             ],
             [
              0.1111111111111111,
              "#46039f"
             ],
             [
              0.2222222222222222,
              "#7201a8"
             ],
             [
              0.3333333333333333,
              "#9c179e"
             ],
             [
              0.4444444444444444,
              "#bd3786"
             ],
             [
              0.5555555555555556,
              "#d8576b"
             ],
             [
              0.6666666666666666,
              "#ed7953"
             ],
             [
              0.7777777777777778,
              "#fb9f3a"
             ],
             [
              0.8888888888888888,
              "#fdca26"
             ],
             [
              1,
              "#f0f921"
             ]
            ],
            "type": "histogram2d"
           }
          ],
          "histogram2dcontour": [
           {
            "colorbar": {
             "outlinewidth": 0,
             "ticks": ""
            },
            "colorscale": [
             [
              0,
              "#0d0887"
             ],
             [
              0.1111111111111111,
              "#46039f"
             ],
             [
              0.2222222222222222,
              "#7201a8"
             ],
             [
              0.3333333333333333,
              "#9c179e"
             ],
             [
              0.4444444444444444,
              "#bd3786"
             ],
             [
              0.5555555555555556,
              "#d8576b"
             ],
             [
              0.6666666666666666,
              "#ed7953"
             ],
             [
              0.7777777777777778,
              "#fb9f3a"
             ],
             [
              0.8888888888888888,
              "#fdca26"
             ],
             [
              1,
              "#f0f921"
             ]
            ],
            "type": "histogram2dcontour"
           }
          ],
          "mesh3d": [
           {
            "colorbar": {
             "outlinewidth": 0,
             "ticks": ""
            },
            "type": "mesh3d"
           }
          ],
          "parcoords": [
           {
            "line": {
             "colorbar": {
              "outlinewidth": 0,
              "ticks": ""
             }
            },
            "type": "parcoords"
           }
          ],
          "pie": [
           {
            "automargin": true,
            "type": "pie"
           }
          ],
          "scatter": [
           {
            "fillpattern": {
             "fillmode": "overlay",
             "size": 10,
             "solidity": 0.2
            },
            "type": "scatter"
           }
          ],
          "scatter3d": [
           {
            "line": {
             "colorbar": {
              "outlinewidth": 0,
              "ticks": ""
             }
            },
            "marker": {
             "colorbar": {
              "outlinewidth": 0,
              "ticks": ""
             }
            },
            "type": "scatter3d"
           }
          ],
          "scattercarpet": [
           {
            "marker": {
             "colorbar": {
              "outlinewidth": 0,
              "ticks": ""
             }
            },
            "type": "scattercarpet"
           }
          ],
          "scattergeo": [
           {
            "marker": {
             "colorbar": {
              "outlinewidth": 0,
              "ticks": ""
             }
            },
            "type": "scattergeo"
           }
          ],
          "scattergl": [
           {
            "marker": {
             "colorbar": {
              "outlinewidth": 0,
              "ticks": ""
             }
            },
            "type": "scattergl"
           }
          ],
          "scattermapbox": [
           {
            "marker": {
             "colorbar": {
              "outlinewidth": 0,
              "ticks": ""
             }
            },
            "type": "scattermapbox"
           }
          ],
          "scatterpolar": [
           {
            "marker": {
             "colorbar": {
              "outlinewidth": 0,
              "ticks": ""
             }
            },
            "type": "scatterpolar"
           }
          ],
          "scatterpolargl": [
           {
            "marker": {
             "colorbar": {
              "outlinewidth": 0,
              "ticks": ""
             }
            },
            "type": "scatterpolargl"
           }
          ],
          "scatterternary": [
           {
            "marker": {
             "colorbar": {
              "outlinewidth": 0,
              "ticks": ""
             }
            },
            "type": "scatterternary"
           }
          ],
          "surface": [
           {
            "colorbar": {
             "outlinewidth": 0,
             "ticks": ""
            },
            "colorscale": [
             [
              0,
              "#0d0887"
             ],
             [
              0.1111111111111111,
              "#46039f"
             ],
             [
              0.2222222222222222,
              "#7201a8"
             ],
             [
              0.3333333333333333,
              "#9c179e"
             ],
             [
              0.4444444444444444,
              "#bd3786"
             ],
             [
              0.5555555555555556,
              "#d8576b"
             ],
             [
              0.6666666666666666,
              "#ed7953"
             ],
             [
              0.7777777777777778,
              "#fb9f3a"
             ],
             [
              0.8888888888888888,
              "#fdca26"
             ],
             [
              1,
              "#f0f921"
             ]
            ],
            "type": "surface"
           }
          ],
          "table": [
           {
            "cells": {
             "fill": {
              "color": "#EBF0F8"
             },
             "line": {
              "color": "white"
             }
            },
            "header": {
             "fill": {
              "color": "#C8D4E3"
             },
             "line": {
              "color": "white"
             }
            },
            "type": "table"
           }
          ]
         },
         "layout": {
          "annotationdefaults": {
           "arrowcolor": "#2a3f5f",
           "arrowhead": 0,
           "arrowwidth": 1
          },
          "autotypenumbers": "strict",
          "coloraxis": {
           "colorbar": {
            "outlinewidth": 0,
            "ticks": ""
           }
          },
          "colorscale": {
           "diverging": [
            [
             0,
             "#8e0152"
            ],
            [
             0.1,
             "#c51b7d"
            ],
            [
             0.2,
             "#de77ae"
            ],
            [
             0.3,
             "#f1b6da"
            ],
            [
             0.4,
             "#fde0ef"
            ],
            [
             0.5,
             "#f7f7f7"
            ],
            [
             0.6,
             "#e6f5d0"
            ],
            [
             0.7,
             "#b8e186"
            ],
            [
             0.8,
             "#7fbc41"
            ],
            [
             0.9,
             "#4d9221"
            ],
            [
             1,
             "#276419"
            ]
           ],
           "sequential": [
            [
             0,
             "#0d0887"
            ],
            [
             0.1111111111111111,
             "#46039f"
            ],
            [
             0.2222222222222222,
             "#7201a8"
            ],
            [
             0.3333333333333333,
             "#9c179e"
            ],
            [
             0.4444444444444444,
             "#bd3786"
            ],
            [
             0.5555555555555556,
             "#d8576b"
            ],
            [
             0.6666666666666666,
             "#ed7953"
            ],
            [
             0.7777777777777778,
             "#fb9f3a"
            ],
            [
             0.8888888888888888,
             "#fdca26"
            ],
            [
             1,
             "#f0f921"
            ]
           ],
           "sequentialminus": [
            [
             0,
             "#0d0887"
            ],
            [
             0.1111111111111111,
             "#46039f"
            ],
            [
             0.2222222222222222,
             "#7201a8"
            ],
            [
             0.3333333333333333,
             "#9c179e"
            ],
            [
             0.4444444444444444,
             "#bd3786"
            ],
            [
             0.5555555555555556,
             "#d8576b"
            ],
            [
             0.6666666666666666,
             "#ed7953"
            ],
            [
             0.7777777777777778,
             "#fb9f3a"
            ],
            [
             0.8888888888888888,
             "#fdca26"
            ],
            [
             1,
             "#f0f921"
            ]
           ]
          },
          "colorway": [
           "#636efa",
           "#EF553B",
           "#00cc96",
           "#ab63fa",
           "#FFA15A",
           "#19d3f3",
           "#FF6692",
           "#B6E880",
           "#FF97FF",
           "#FECB52"
          ],
          "font": {
           "color": "#2a3f5f"
          },
          "geo": {
           "bgcolor": "white",
           "lakecolor": "white",
           "landcolor": "#E5ECF6",
           "showlakes": true,
           "showland": true,
           "subunitcolor": "white"
          },
          "hoverlabel": {
           "align": "left"
          },
          "hovermode": "closest",
          "mapbox": {
           "style": "light"
          },
          "paper_bgcolor": "white",
          "plot_bgcolor": "#E5ECF6",
          "polar": {
           "angularaxis": {
            "gridcolor": "white",
            "linecolor": "white",
            "ticks": ""
           },
           "bgcolor": "#E5ECF6",
           "radialaxis": {
            "gridcolor": "white",
            "linecolor": "white",
            "ticks": ""
           }
          },
          "scene": {
           "xaxis": {
            "backgroundcolor": "#E5ECF6",
            "gridcolor": "white",
            "gridwidth": 2,
            "linecolor": "white",
            "showbackground": true,
            "ticks": "",
            "zerolinecolor": "white"
           },
           "yaxis": {
            "backgroundcolor": "#E5ECF6",
            "gridcolor": "white",
            "gridwidth": 2,
            "linecolor": "white",
            "showbackground": true,
            "ticks": "",
            "zerolinecolor": "white"
           },
           "zaxis": {
            "backgroundcolor": "#E5ECF6",
            "gridcolor": "white",
            "gridwidth": 2,
            "linecolor": "white",
            "showbackground": true,
            "ticks": "",
            "zerolinecolor": "white"
           }
          },
          "shapedefaults": {
           "line": {
            "color": "#2a3f5f"
           }
          },
          "ternary": {
           "aaxis": {
            "gridcolor": "white",
            "linecolor": "white",
            "ticks": ""
           },
           "baxis": {
            "gridcolor": "white",
            "linecolor": "white",
            "ticks": ""
           },
           "bgcolor": "#E5ECF6",
           "caxis": {
            "gridcolor": "white",
            "linecolor": "white",
            "ticks": ""
           }
          },
          "title": {
           "x": 0.05
          },
          "xaxis": {
           "automargin": true,
           "gridcolor": "white",
           "linecolor": "white",
           "ticks": "",
           "title": {
            "standoff": 15
           },
           "zerolinecolor": "white",
           "zerolinewidth": 2
          },
          "yaxis": {
           "automargin": true,
           "gridcolor": "white",
           "linecolor": "white",
           "ticks": "",
           "title": {
            "standoff": 15
           },
           "zerolinecolor": "white",
           "zerolinewidth": 2
          }
         }
        },
        "title": {
         "text": "Best EMA Balanced Accuracy accross models"
        },
        "xaxis": {
         "anchor": "y",
         "domain": [
          0,
          1
         ],
         "title": {
          "text": "Best EMA Values"
         }
        },
        "yaxis": {
         "anchor": "x",
         "categoryarray": [
          "samil_image_pretrain",
          "samil_bag_pretrain",
          "samil_no_pretrain",
          "set_transformer",
          "dsmil",
          "abmil"
         ],
         "categoryorder": "array",
         "domain": [
          0,
          1
         ],
         "title": {
          "text": "Model"
         }
        }
       }
      }
     },
     "metadata": {},
     "output_type": "display_data"
    }
   ],
   "source": [
    "import plotly.express as px\n",
    "\n",
    "# Preparing data for plotting\n",
    "models = list(models_data.keys())\n",
    "best_val_raw_Bacc = [model['val_progression_view']['best_val_raw_Bacc'] for model in models_data.values()]\n",
    "best_test_ema_Bacc_at_val = [model['val_progression_view']['best_val_ema_Bacc'] for model in models_data.values()]\n",
    "\n",
    "# Creating a DataFrame for Plotly\n",
    "import pandas as pd\n",
    "df_val = pd.DataFrame({'Model': models, 'Best Values': best_val_raw_Bacc})\n",
    "df_test = pd.DataFrame({'Model': models, 'Best EMA Values': best_test_ema_Bacc_at_val})\n",
    "\n",
    "# Plotting best_val_raw_Bacc\n",
    "fig_val = px.bar(df_val, x='Best Values', y='Model', orientation='h', color='Model',\n",
    "                 color_discrete_sequence=px.colors.qualitative.Set1, title='Best Balanced Accuracy accross models')\n",
    "fig_val.update_layout(showlegend=False)\n",
    "fig_val.show()\n",
    "\n",
    "# Plotting best_test_ema_Bacc_at_val\n",
    "fig_test = px.bar(df_test, x='Best EMA Values', y='Model', orientation='h', color='Model',\n",
    "                  color_discrete_sequence=px.colors.qualitative.Set1, title='Best EMA Balanced Accuracy accross models')\n",
    "fig_test.update_layout(showlegend=False)\n",
    "fig_test.show()\n"
   ]
  }
 ],
 "metadata": {
  "kernelspec": {
   "display_name": "Python 3",
   "language": "python",
   "name": "python3"
  },
  "language_info": {
   "codemirror_mode": {
    "name": "ipython",
    "version": 3
   },
   "file_extension": ".py",
   "mimetype": "text/x-python",
   "name": "python",
   "nbconvert_exporter": "python",
   "pygments_lexer": "ipython3",
   "version": "3.11.1"
  }
 },
 "nbformat": 4,
 "nbformat_minor": 2
}
