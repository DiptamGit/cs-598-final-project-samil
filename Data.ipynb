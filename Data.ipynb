{
  "cells": [
    {
      "cell_type": "code",
      "execution_count": 11,
      "metadata": {
        "id": "m794myOt63Nv"
      },
      "outputs": [],
      "source": [
        "import pandas as pd\n",
        "import numpy as np\n",
        "import os\n",
        "import random\n",
        "\n",
        "import PIL.Image as Image\n",
        "import seaborn as sns\n",
        "import matplotlib.pyplot as plt\n",
        "%matplotlib inline\n",
        "\n",
        "import warnings\n",
        "warnings.filterwarnings('ignore')"
      ]
    },
    {
      "cell_type": "markdown",
      "metadata": {
        "id": "h1m0_UoU3m-o"
      },
      "source": [
        "## Data"
      ]
    },
    {
      "cell_type": "markdown",
      "metadata": {
        "id": "EQkefVzzbUz_"
      },
      "source": [
        "### About TMED-2"
      ]
    },
    {
      "cell_type": "markdown",
      "metadata": {
        "id": "nv6Y8hd6deLK"
      },
      "source": [
        "Our experiment uses Tufts Medical Echocardiogram Dataset-2 (TMED-2) dataset.\n",
        "  * TMED-2 is a clinically-motivated benchmark dataset for computer vision and machine learning from limited data.\n",
        "  * This dataset is designed to be an authentic assessment of semi-supervised learning methods that train classifiers from a small, hard-to-acquire labeled dataset and a much larger unlabeled set.\n",
        "  \n",
        "The TMED-2 dataset obtained from 2011-2020 at Tufts Medical Center.\n",
        "  * The TMED-2 dataset contains transthoracic echocardiogram (TTE) imagery, acquired in the course of routine care consistent with American Society of Echocardiography (ASE) guidelines.\n",
        "  * More information about retrieving the TMED-2 dataset can found [here](https://tmed.cs.tufts.edu/index.html)."
      ]
    },
    {
      "cell_type": "markdown",
      "metadata": {
        "id": "kcx0L_zYdUeo"
      },
      "source": [
        "### Overview"
      ]
    },
    {
      "cell_type": "markdown",
      "metadata": {
        "id": "GYOJbPUjdcJa"
      },
      "source": [
        "TMED-2 dataset contains three components:\n",
        "1. `view_and_diagnosis_labeled_set`: 599 bags from 577 unique patients, where all patients have an AS diagnostic label - (1)none, (2)early AS, or (3)significant AS. Also has view label annotations.\n",
        "      * This dataset has been partitioned by patient into 360 training / 119 validation / 120 test bags.\n",
        "2. `view_labeled_set`: 705 bags from 703 unique patients. These bags have view labels, but no AS diagnosis labels.\n",
        "3. `unlabeled_set`: 5,486 bags from 5,287 patients, and no labels are available for any bags in this set."
      ]
    },
    {
      "cell_type": "markdown",
      "metadata": {
        "id": "frNHemfQc3wS"
      },
      "source": [
        "### Statistics\n"
      ]
    },
    {
      "cell_type": "markdown",
      "metadata": {
        "id": "aCuvcfOVdvUe"
      },
      "source": [
        "Below is the summary table of TMED-2 dataset:\n",
        "\n",
        "| Dataset            | Num. Patients | Num. Studies | Num. Labeled Images | Num. Unlabeled Images |\n",
        "|--------------------|---------------|--------------|---------------------|-----------------------|\n",
        "| fully labeled set  | 577           | 599          | 17,270               | 26,596                 |\n",
        "| partially labeled set | 703         | 705          | 7,694                | 37,576                 |\n",
        "| unlabeled set      | 5,287          | 5,486         | 0                   | 353,500                |\n"
      ]
    },
    {
      "cell_type": "markdown",
      "metadata": {
        "id": "yN7VyMph6Bjl"
      },
      "source": [
        "### Image Preprocessing"
      ]
    },
    {
      "cell_type": "markdown",
      "metadata": {
        "id": "uXp9umfndrqL"
      },
      "source": [
        "Data processing has been already implemented on the dataset.\n",
        "* Every image in this dataset is a 2D transthoracic echocardiogram (TTE) image stored at 112x112 pixel resolution in PNG format."
      ]
    },
    {
      "cell_type": "markdown",
      "metadata": {
        "id": "S6PVOzW5dza_"
      },
      "source": [
        "### Illustrations"
      ]
    },
    {
      "cell_type": "code",
      "execution_count": 2,
      "metadata": {
        "id": "8HDdOaO-7GOx"
      },
      "outputs": [],
      "source": [
        "def LoadImage(file_path):\n",
        "    im = Image.open(file_path)\n",
        "    im = np.asarray(im)/255\n",
        "    return im\n",
        "\n",
        "def ShowGrayscaleImage(file_path, title='', ax=None):\n",
        "    im = LoadImage(file_path)\n",
        "    if ax is None:\n",
        "        plt.figure()\n",
        "\n",
        "    plt.axis('off')\n",
        "    plt.imshow(im, cmap=plt.cm.gray, vmin=0, vmax=1)\n",
        "    plt.title(title)\n",
        "\n",
        "def find_label(query_key):\n",
        "    assert len(labels_per_image_csv.index[labels_per_image_csv['query_key']==query_key].tolist())==1\n",
        "\n",
        "    row_id = labels_per_image_csv.index[labels_per_image_csv['query_key']==query_key].tolist()[0]\n",
        "    view_label = labels_per_image_csv.iloc[row_id].view_label\n",
        "    diagnosis_label = labels_per_image_csv.iloc[row_id].diagnosis_label\n",
        "\n",
        "    return view_label, diagnosis_label"
      ]
    },
    {
      "cell_type": "code",
      "execution_count": 31,
      "metadata": {
        "id": "V6wJ3kHq79xa"
      },
      "outputs": [],
      "source": [
        "# CHANGE THIS WITH YOUR TMED2 DIRECTORY PATH!\n",
        "TMED2_PATH = \"TMED2/approved_users_only\""
      ]
    },
    {
      "cell_type": "code",
      "execution_count": 5,
      "metadata": {
        "colab": {
          "base_uri": "https://localhost:8080/",
          "height": 424
        },
        "id": "M9ebcebb8CTO",
        "outputId": "2e82b3c4-e077-4d33-8b85-32ac15391c44"
      },
      "outputs": [
        {
          "data": {
            "text/html": [
              "<div>\n",
              "<style scoped>\n",
              "    .dataframe tbody tr th:only-of-type {\n",
              "        vertical-align: middle;\n",
              "    }\n",
              "\n",
              "    .dataframe tbody tr th {\n",
              "        vertical-align: top;\n",
              "    }\n",
              "\n",
              "    .dataframe thead th {\n",
              "        text-align: right;\n",
              "    }\n",
              "</style>\n",
              "<table border=\"1\" class=\"dataframe\">\n",
              "  <thead>\n",
              "    <tr style=\"text-align: right;\">\n",
              "      <th></th>\n",
              "      <th>query_key</th>\n",
              "      <th>view_label</th>\n",
              "      <th>diagnosis_label</th>\n",
              "    </tr>\n",
              "  </thead>\n",
              "  <tbody>\n",
              "    <tr>\n",
              "      <th>0</th>\n",
              "      <td>4860s1_0.png</td>\n",
              "      <td>A4C</td>\n",
              "      <td>moderate_AS</td>\n",
              "    </tr>\n",
              "    <tr>\n",
              "      <th>1</th>\n",
              "      <td>4860s1_1.png</td>\n",
              "      <td>A2C</td>\n",
              "      <td>moderate_AS</td>\n",
              "    </tr>\n",
              "    <tr>\n",
              "      <th>2</th>\n",
              "      <td>4860s1_2.png</td>\n",
              "      <td>PLAX</td>\n",
              "      <td>moderate_AS</td>\n",
              "    </tr>\n",
              "    <tr>\n",
              "      <th>3</th>\n",
              "      <td>4860s1_3.png</td>\n",
              "      <td>PLAX</td>\n",
              "      <td>moderate_AS</td>\n",
              "    </tr>\n",
              "    <tr>\n",
              "      <th>4</th>\n",
              "      <td>4860s1_4.png</td>\n",
              "      <td>PLAX</td>\n",
              "      <td>moderate_AS</td>\n",
              "    </tr>\n",
              "    <tr>\n",
              "      <th>...</th>\n",
              "      <td>...</td>\n",
              "      <td>...</td>\n",
              "      <td>...</td>\n",
              "    </tr>\n",
              "    <tr>\n",
              "      <th>24959</th>\n",
              "      <td>2797s1_28.png</td>\n",
              "      <td>A4C</td>\n",
              "      <td>Not_Provided</td>\n",
              "    </tr>\n",
              "    <tr>\n",
              "      <th>24960</th>\n",
              "      <td>235s1_0.png</td>\n",
              "      <td>PLAX</td>\n",
              "      <td>Not_Provided</td>\n",
              "    </tr>\n",
              "    <tr>\n",
              "      <th>24961</th>\n",
              "      <td>235s1_1.png</td>\n",
              "      <td>A4C</td>\n",
              "      <td>Not_Provided</td>\n",
              "    </tr>\n",
              "    <tr>\n",
              "      <th>24962</th>\n",
              "      <td>235s1_2.png</td>\n",
              "      <td>PLAX</td>\n",
              "      <td>Not_Provided</td>\n",
              "    </tr>\n",
              "    <tr>\n",
              "      <th>24963</th>\n",
              "      <td>235s1_3.png</td>\n",
              "      <td>A4C</td>\n",
              "      <td>Not_Provided</td>\n",
              "    </tr>\n",
              "  </tbody>\n",
              "</table>\n",
              "<p>24964 rows × 3 columns</p>\n",
              "</div>"
            ],
            "text/plain": [
              "           query_key view_label diagnosis_label\n",
              "0       4860s1_0.png        A4C     moderate_AS\n",
              "1       4860s1_1.png        A2C     moderate_AS\n",
              "2       4860s1_2.png       PLAX     moderate_AS\n",
              "3       4860s1_3.png       PLAX     moderate_AS\n",
              "4       4860s1_4.png       PLAX     moderate_AS\n",
              "...              ...        ...             ...\n",
              "24959  2797s1_28.png        A4C    Not_Provided\n",
              "24960    235s1_0.png       PLAX    Not_Provided\n",
              "24961    235s1_1.png        A4C    Not_Provided\n",
              "24962    235s1_2.png       PLAX    Not_Provided\n",
              "24963    235s1_3.png        A4C    Not_Provided\n",
              "\n",
              "[24964 rows x 3 columns]"
            ]
          },
          "execution_count": 5,
          "metadata": {},
          "output_type": "execute_result"
        }
      ],
      "source": [
        "labels_per_image_csv = pd.read_csv(os.path.join(TMED2_PATH, 'labels_per_image.csv'))\n",
        "labels_per_image_csv"
      ]
    },
    {
      "cell_type": "code",
      "execution_count": 12,
      "metadata": {
        "colab": {
          "base_uri": "https://localhost:8080/",
          "height": 469
        },
        "id": "PnKMVSh08O3Q",
        "outputId": "4497ca18-f952-41ce-d167-6c37029e01cb"
      },
      "outputs": [
        {
          "data": {
            "text/plain": [
              "Text(0.5, 1.0, 'Diagnosis Label Distribution')"
            ]
          },
          "execution_count": 12,
          "metadata": {},
          "output_type": "execute_result"
        },
        {
          "data": {
            "image/png": "[encoded data removed]",
            "text/plain": [
              "<Figure size 640x480 with 1 Axes>"
            ]
          },
          "metadata": {},
          "output_type": "display_data"
        }
      ],
      "source": [
        "labels_per_image_csv.groupby('diagnosis_label').size().plot(kind='barh', color=sns.palettes.mpl_palette('Dark2'))\n",
        "plt.gca().spines[['top', 'right',]].set_visible(False)\n",
        "plt.title('Diagnosis Label Distribution')"
      ]
    },
    {
      "cell_type": "code",
      "execution_count": 13,
      "metadata": {
        "colab": {
          "base_uri": "https://localhost:8080/",
          "height": 469
        },
        "id": "a6tu2plV8Kc-",
        "outputId": "0cfc98a9-1cf3-4957-c22c-826d4ddfffff"
      },
      "outputs": [
        {
          "data": {
            "text/plain": [
              "Text(0.5, 1.0, 'View Label Distribution')"
            ]
          },
          "execution_count": 13,
          "metadata": {},
          "output_type": "execute_result"
        },
        {
          "data": {
            "image/png": "[encoded data removed]",
            "text/plain": [
              "<Figure size 640x480 with 1 Axes>"
            ]
          },
          "metadata": {},
          "output_type": "display_data"
        }
      ],
      "source": [
        "from matplotlib import pyplot as plt\n",
        "import seaborn as sns\n",
        "labels_per_image_csv.groupby('view_label').size().plot(kind='barh', color=sns.palettes.mpl_palette('Dark2'))\n",
        "plt.gca().spines[['top', 'right',]].set_visible(False)\n",
        "plt.title('View Label Distribution')"
      ]
    },
    {
      "cell_type": "markdown",
      "metadata": {
        "id": "g3q1yPmn_dSY"
      },
      "source": [
        "**visualization from `view_and_diagnosis_labeled_set`**"
      ]
    },
    {
      "cell_type": "code",
      "execution_count": 22,
      "metadata": {
        "colab": {
          "base_uri": "https://localhost:8080/"
        },
        "id": "tLRChNYe8xJy",
        "outputId": "6d861e6e-e094-4e69-b21d-09602bf66869"
      },
      "outputs": [
        {
          "name": "stdout",
          "output_type": "stream",
          "text": [
            "number of images in the ImageList_view_and_diagnosis_labeledset: 17270\n"
          ]
        }
      ],
      "source": [
        "view_and_diagnosis_label_set_path = os.path.join(TMED2_PATH, 'view_and_diagnosis_labeled_set/labeled')\n",
        "ImageList_view_and_diagnosis_labeled_set = os.listdir(view_and_diagnosis_label_set_path)\n",
        "print('number of images in the ImageList_view_and_diagnosis_labeledset: {}'.format(len(ImageList_view_and_diagnosis_labeled_set)))"
      ]
    },
    {
      "cell_type": "code",
      "execution_count": 23,
      "metadata": {
        "id": "CFB9FOgN9Ny_"
      },
      "outputs": [],
      "source": [
        "im_to_visualize = random.choice(ImageList_view_and_diagnosis_labeled_set)\n",
        "view_label, diagnosis_label = find_label(im_to_visualize)"
      ]
    },
    {
      "cell_type": "code",
      "execution_count": 24,
      "metadata": {
        "colab": {
          "base_uri": "https://localhost:8080/",
          "height": 441
        },
        "id": "uo2Jw7X2_cCI",
        "outputId": "959f9d07-784f-43bc-9ec4-9292adb1bc0c"
      },
      "outputs": [
        {
          "name": "stdout",
          "output_type": "stream",
          "text": [
            "Currently visualizing 4496s1_8.png from labeled set\n",
            "view: A4C, diagnosis: moderate_AS\n"
          ]
        },
        {
          "data": {
            "image/png": "[encoded data removed]",
            "text/plain": [
              "<Figure size 640x480 with 1 Axes>"
            ]
          },
          "metadata": {},
          "output_type": "display_data"
        }
      ],
      "source": [
        "print('Currently visualizing {} from labeled set'.format(im_to_visualize))\n",
        "print('view: {}, diagnosis: {}'.format(view_label, diagnosis_label))\n",
        "ShowGrayscaleImage(os.path.join(view_and_diagnosis_label_set_path, im_to_visualize))"
      ]
    },
    {
      "cell_type": "markdown",
      "metadata": {
        "id": "MvvR35Kg_hDg"
      },
      "source": [
        "**visualization `from view_labeled_set`**"
      ]
    },
    {
      "cell_type": "code",
      "execution_count": 28,
      "metadata": {
        "colab": {
          "base_uri": "https://localhost:8080/"
        },
        "id": "F_cqOL7V_nVn",
        "outputId": "4ed2e3df-0249-49dc-b4ed-cf22313fa5e3"
      },
      "outputs": [
        {
          "name": "stdout",
          "output_type": "stream",
          "text": [
            "number of images in the ImageList_view_labeledset: 7694\n"
          ]
        }
      ],
      "source": [
        "view_labeled_set_path = os.path.join(TMED2_PATH, 'view_labeled_set/labeled')\n",
        "ImageList_view_labeled_set = os.listdir(view_labeled_set_path)\n",
        "print('number of images in the ImageList_view_labeledset: {}'.format(len(ImageList_view_labeled_set)))"
      ]
    },
    {
      "cell_type": "code",
      "execution_count": 29,
      "metadata": {
        "id": "ZezDRPPt_y7s"
      },
      "outputs": [],
      "source": [
        "im_to_visualize = random.choice(ImageList_view_labeled_set)\n",
        "view_label, diagnosis_label = find_label(im_to_visualize)"
      ]
    },
    {
      "cell_type": "code",
      "execution_count": 30,
      "metadata": {
        "colab": {
          "base_uri": "https://localhost:8080/",
          "height": 441
        },
        "id": "BVNT1-m4_09g",
        "outputId": "d67fe611-0373-4ad6-ee16-8f0f59f44615"
      },
      "outputs": [
        {
          "name": "stdout",
          "output_type": "stream",
          "text": [
            "Currently visualizing 145s1_8.png from labeled set\n",
            "view: A2C, diagnosis: Not_Provided\n"
          ]
        },
        {
          "data": {
            "image/png": "[encoded data removed]",
            "text/plain": [
              "<Figure size 640x480 with 1 Axes>"
            ]
          },
          "metadata": {},
          "output_type": "display_data"
        }
      ],
      "source": [
        "print('Currently visualizing {} from labeled set'.format(im_to_visualize))\n",
        "print('view: {}, diagnosis: {}'.format(view_label, diagnosis_label))\n",
        "ShowGrayscaleImage(os.path.join(view_labeled_set_path, im_to_visualize))"
      ]
    }
  ],
  "metadata": {
    "colab": {
      "provenance": []
    },
    "kernelspec": {
      "display_name": "Python 3",
      "name": "python3"
    },
    "language_info": {
      "codemirror_mode": {
        "name": "ipython",
        "version": 3
      },
      "file_extension": ".py",
      "mimetype": "text/x-python",
      "name": "python",
      "nbconvert_exporter": "python",
      "pygments_lexer": "ipython3",
      "version": "3.11.4"
    }
  },
  "nbformat": 4,
  "nbformat_minor": 0
}
